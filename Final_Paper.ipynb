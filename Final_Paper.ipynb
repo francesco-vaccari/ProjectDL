{
  "nbformat": 4,
  "nbformat_minor": 0,
  "metadata": {
    "colab": {
      "provenance": [],
      "collapsed_sections": [
        "uI_Cv2MaKtBy",
        "NSTDn-Oz5Hum",
        "pFpuJURz5B_q",
        "-wr4pQLE4rGM",
        "5dwh32puJ4xT",
        "hQRfN7yWLa9L",
        "XcFfItRHLTWk"
      ],
      "gpuType": "T4",
      "toc_visible": true
    },
    "kernelspec": {
      "name": "python3",
      "display_name": "Python 3"
    },
    "language_info": {
      "name": "python"
    },
    "accelerator": "GPU",
    "widgets": {
      "application/vnd.jupyter.widget-state+json": {
        "28ff59d935a64fffb46bedc9fb0ecdab": {
          "model_module": "@jupyter-widgets/controls",
          "model_name": "HBoxModel",
          "model_module_version": "1.5.0",
          "state": {
            "_dom_classes": [],
            "_model_module": "@jupyter-widgets/controls",
            "_model_module_version": "1.5.0",
            "_model_name": "HBoxModel",
            "_view_count": null,
            "_view_module": "@jupyter-widgets/controls",
            "_view_module_version": "1.5.0",
            "_view_name": "HBoxView",
            "box_style": "",
            "children": [
              "IPY_MODEL_53fb66ea10fa4bdcb77f7d6d1c21916d",
              "IPY_MODEL_0758070d52994277aa3979b9c8259f05",
              "IPY_MODEL_b840f7f98de74b8dbd56cca6b8e87a5f"
            ],
            "layout": "IPY_MODEL_15b5b1e2814742e089bfcac8dc57fb7f"
          }
        },
        "53fb66ea10fa4bdcb77f7d6d1c21916d": {
          "model_module": "@jupyter-widgets/controls",
          "model_name": "HTMLModel",
          "model_module_version": "1.5.0",
          "state": {
            "_dom_classes": [],
            "_model_module": "@jupyter-widgets/controls",
            "_model_module_version": "1.5.0",
            "_model_name": "HTMLModel",
            "_view_count": null,
            "_view_module": "@jupyter-widgets/controls",
            "_view_module_version": "1.5.0",
            "_view_name": "HTMLView",
            "description": "",
            "description_tooltip": null,
            "layout": "IPY_MODEL_b6dd977477fc4b56b3982a77e48711d5",
            "placeholder": "​",
            "style": "IPY_MODEL_c737ee6b7d7a4653981d5ed472e411db",
            "value": "Downloading (…)solve/main/vocab.txt: 100%"
          }
        },
        "0758070d52994277aa3979b9c8259f05": {
          "model_module": "@jupyter-widgets/controls",
          "model_name": "FloatProgressModel",
          "model_module_version": "1.5.0",
          "state": {
            "_dom_classes": [],
            "_model_module": "@jupyter-widgets/controls",
            "_model_module_version": "1.5.0",
            "_model_name": "FloatProgressModel",
            "_view_count": null,
            "_view_module": "@jupyter-widgets/controls",
            "_view_module_version": "1.5.0",
            "_view_name": "ProgressView",
            "bar_style": "success",
            "description": "",
            "description_tooltip": null,
            "layout": "IPY_MODEL_dee2bfe7be4a47e98b6f57583c3f2461",
            "max": 231508,
            "min": 0,
            "orientation": "horizontal",
            "style": "IPY_MODEL_a834aa7c701d47e781841254bcf2151b",
            "value": 231508
          }
        },
        "b840f7f98de74b8dbd56cca6b8e87a5f": {
          "model_module": "@jupyter-widgets/controls",
          "model_name": "HTMLModel",
          "model_module_version": "1.5.0",
          "state": {
            "_dom_classes": [],
            "_model_module": "@jupyter-widgets/controls",
            "_model_module_version": "1.5.0",
            "_model_name": "HTMLModel",
            "_view_count": null,
            "_view_module": "@jupyter-widgets/controls",
            "_view_module_version": "1.5.0",
            "_view_name": "HTMLView",
            "description": "",
            "description_tooltip": null,
            "layout": "IPY_MODEL_0447bd1511f542b2b805a7549f79a478",
            "placeholder": "​",
            "style": "IPY_MODEL_84e929d37ea8442a9b6f33cf17895403",
            "value": " 232k/232k [00:00&lt;00:00, 11.6MB/s]"
          }
        },
        "15b5b1e2814742e089bfcac8dc57fb7f": {
          "model_module": "@jupyter-widgets/base",
          "model_name": "LayoutModel",
          "model_module_version": "1.2.0",
          "state": {
            "_model_module": "@jupyter-widgets/base",
            "_model_module_version": "1.2.0",
            "_model_name": "LayoutModel",
            "_view_count": null,
            "_view_module": "@jupyter-widgets/base",
            "_view_module_version": "1.2.0",
            "_view_name": "LayoutView",
            "align_content": null,
            "align_items": null,
            "align_self": null,
            "border": null,
            "bottom": null,
            "display": null,
            "flex": null,
            "flex_flow": null,
            "grid_area": null,
            "grid_auto_columns": null,
            "grid_auto_flow": null,
            "grid_auto_rows": null,
            "grid_column": null,
            "grid_gap": null,
            "grid_row": null,
            "grid_template_areas": null,
            "grid_template_columns": null,
            "grid_template_rows": null,
            "height": null,
            "justify_content": null,
            "justify_items": null,
            "left": null,
            "margin": null,
            "max_height": null,
            "max_width": null,
            "min_height": null,
            "min_width": null,
            "object_fit": null,
            "object_position": null,
            "order": null,
            "overflow": null,
            "overflow_x": null,
            "overflow_y": null,
            "padding": null,
            "right": null,
            "top": null,
            "visibility": null,
            "width": null
          }
        },
        "b6dd977477fc4b56b3982a77e48711d5": {
          "model_module": "@jupyter-widgets/base",
          "model_name": "LayoutModel",
          "model_module_version": "1.2.0",
          "state": {
            "_model_module": "@jupyter-widgets/base",
            "_model_module_version": "1.2.0",
            "_model_name": "LayoutModel",
            "_view_count": null,
            "_view_module": "@jupyter-widgets/base",
            "_view_module_version": "1.2.0",
            "_view_name": "LayoutView",
            "align_content": null,
            "align_items": null,
            "align_self": null,
            "border": null,
            "bottom": null,
            "display": null,
            "flex": null,
            "flex_flow": null,
            "grid_area": null,
            "grid_auto_columns": null,
            "grid_auto_flow": null,
            "grid_auto_rows": null,
            "grid_column": null,
            "grid_gap": null,
            "grid_row": null,
            "grid_template_areas": null,
            "grid_template_columns": null,
            "grid_template_rows": null,
            "height": null,
            "justify_content": null,
            "justify_items": null,
            "left": null,
            "margin": null,
            "max_height": null,
            "max_width": null,
            "min_height": null,
            "min_width": null,
            "object_fit": null,
            "object_position": null,
            "order": null,
            "overflow": null,
            "overflow_x": null,
            "overflow_y": null,
            "padding": null,
            "right": null,
            "top": null,
            "visibility": null,
            "width": null
          }
        },
        "c737ee6b7d7a4653981d5ed472e411db": {
          "model_module": "@jupyter-widgets/controls",
          "model_name": "DescriptionStyleModel",
          "model_module_version": "1.5.0",
          "state": {
            "_model_module": "@jupyter-widgets/controls",
            "_model_module_version": "1.5.0",
            "_model_name": "DescriptionStyleModel",
            "_view_count": null,
            "_view_module": "@jupyter-widgets/base",
            "_view_module_version": "1.2.0",
            "_view_name": "StyleView",
            "description_width": ""
          }
        },
        "dee2bfe7be4a47e98b6f57583c3f2461": {
          "model_module": "@jupyter-widgets/base",
          "model_name": "LayoutModel",
          "model_module_version": "1.2.0",
          "state": {
            "_model_module": "@jupyter-widgets/base",
            "_model_module_version": "1.2.0",
            "_model_name": "LayoutModel",
            "_view_count": null,
            "_view_module": "@jupyter-widgets/base",
            "_view_module_version": "1.2.0",
            "_view_name": "LayoutView",
            "align_content": null,
            "align_items": null,
            "align_self": null,
            "border": null,
            "bottom": null,
            "display": null,
            "flex": null,
            "flex_flow": null,
            "grid_area": null,
            "grid_auto_columns": null,
            "grid_auto_flow": null,
            "grid_auto_rows": null,
            "grid_column": null,
            "grid_gap": null,
            "grid_row": null,
            "grid_template_areas": null,
            "grid_template_columns": null,
            "grid_template_rows": null,
            "height": null,
            "justify_content": null,
            "justify_items": null,
            "left": null,
            "margin": null,
            "max_height": null,
            "max_width": null,
            "min_height": null,
            "min_width": null,
            "object_fit": null,
            "object_position": null,
            "order": null,
            "overflow": null,
            "overflow_x": null,
            "overflow_y": null,
            "padding": null,
            "right": null,
            "top": null,
            "visibility": null,
            "width": null
          }
        },
        "a834aa7c701d47e781841254bcf2151b": {
          "model_module": "@jupyter-widgets/controls",
          "model_name": "ProgressStyleModel",
          "model_module_version": "1.5.0",
          "state": {
            "_model_module": "@jupyter-widgets/controls",
            "_model_module_version": "1.5.0",
            "_model_name": "ProgressStyleModel",
            "_view_count": null,
            "_view_module": "@jupyter-widgets/base",
            "_view_module_version": "1.2.0",
            "_view_name": "StyleView",
            "bar_color": null,
            "description_width": ""
          }
        },
        "0447bd1511f542b2b805a7549f79a478": {
          "model_module": "@jupyter-widgets/base",
          "model_name": "LayoutModel",
          "model_module_version": "1.2.0",
          "state": {
            "_model_module": "@jupyter-widgets/base",
            "_model_module_version": "1.2.0",
            "_model_name": "LayoutModel",
            "_view_count": null,
            "_view_module": "@jupyter-widgets/base",
            "_view_module_version": "1.2.0",
            "_view_name": "LayoutView",
            "align_content": null,
            "align_items": null,
            "align_self": null,
            "border": null,
            "bottom": null,
            "display": null,
            "flex": null,
            "flex_flow": null,
            "grid_area": null,
            "grid_auto_columns": null,
            "grid_auto_flow": null,
            "grid_auto_rows": null,
            "grid_column": null,
            "grid_gap": null,
            "grid_row": null,
            "grid_template_areas": null,
            "grid_template_columns": null,
            "grid_template_rows": null,
            "height": null,
            "justify_content": null,
            "justify_items": null,
            "left": null,
            "margin": null,
            "max_height": null,
            "max_width": null,
            "min_height": null,
            "min_width": null,
            "object_fit": null,
            "object_position": null,
            "order": null,
            "overflow": null,
            "overflow_x": null,
            "overflow_y": null,
            "padding": null,
            "right": null,
            "top": null,
            "visibility": null,
            "width": null
          }
        },
        "84e929d37ea8442a9b6f33cf17895403": {
          "model_module": "@jupyter-widgets/controls",
          "model_name": "DescriptionStyleModel",
          "model_module_version": "1.5.0",
          "state": {
            "_model_module": "@jupyter-widgets/controls",
            "_model_module_version": "1.5.0",
            "_model_name": "DescriptionStyleModel",
            "_view_count": null,
            "_view_module": "@jupyter-widgets/base",
            "_view_module_version": "1.2.0",
            "_view_name": "StyleView",
            "description_width": ""
          }
        },
        "87ded747830a4820b78694996058313b": {
          "model_module": "@jupyter-widgets/controls",
          "model_name": "HBoxModel",
          "model_module_version": "1.5.0",
          "state": {
            "_dom_classes": [],
            "_model_module": "@jupyter-widgets/controls",
            "_model_module_version": "1.5.0",
            "_model_name": "HBoxModel",
            "_view_count": null,
            "_view_module": "@jupyter-widgets/controls",
            "_view_module_version": "1.5.0",
            "_view_name": "HBoxView",
            "box_style": "",
            "children": [
              "IPY_MODEL_c37b88140a4d4618b1f3d76158d7aad3",
              "IPY_MODEL_c42aff48beea460d904fe1a99ac5bf76",
              "IPY_MODEL_55d9663f0de8422882f2e839fbb4077c"
            ],
            "layout": "IPY_MODEL_67c48fd71c8c44808ea2a924e3cc11a4"
          }
        },
        "c37b88140a4d4618b1f3d76158d7aad3": {
          "model_module": "@jupyter-widgets/controls",
          "model_name": "HTMLModel",
          "model_module_version": "1.5.0",
          "state": {
            "_dom_classes": [],
            "_model_module": "@jupyter-widgets/controls",
            "_model_module_version": "1.5.0",
            "_model_name": "HTMLModel",
            "_view_count": null,
            "_view_module": "@jupyter-widgets/controls",
            "_view_module_version": "1.5.0",
            "_view_name": "HTMLView",
            "description": "",
            "description_tooltip": null,
            "layout": "IPY_MODEL_0fae0d0644b64706889283b43acdfdbf",
            "placeholder": "​",
            "style": "IPY_MODEL_9501f95055244bc19ec3a38413b905ad",
            "value": "Downloading (…)okenizer_config.json: 100%"
          }
        },
        "c42aff48beea460d904fe1a99ac5bf76": {
          "model_module": "@jupyter-widgets/controls",
          "model_name": "FloatProgressModel",
          "model_module_version": "1.5.0",
          "state": {
            "_dom_classes": [],
            "_model_module": "@jupyter-widgets/controls",
            "_model_module_version": "1.5.0",
            "_model_name": "FloatProgressModel",
            "_view_count": null,
            "_view_module": "@jupyter-widgets/controls",
            "_view_module_version": "1.5.0",
            "_view_name": "ProgressView",
            "bar_style": "success",
            "description": "",
            "description_tooltip": null,
            "layout": "IPY_MODEL_a163d4026f064207a7879121a575d31c",
            "max": 28,
            "min": 0,
            "orientation": "horizontal",
            "style": "IPY_MODEL_42a29f24f992479c9da200ad8aae3e5e",
            "value": 28
          }
        },
        "55d9663f0de8422882f2e839fbb4077c": {
          "model_module": "@jupyter-widgets/controls",
          "model_name": "HTMLModel",
          "model_module_version": "1.5.0",
          "state": {
            "_dom_classes": [],
            "_model_module": "@jupyter-widgets/controls",
            "_model_module_version": "1.5.0",
            "_model_name": "HTMLModel",
            "_view_count": null,
            "_view_module": "@jupyter-widgets/controls",
            "_view_module_version": "1.5.0",
            "_view_name": "HTMLView",
            "description": "",
            "description_tooltip": null,
            "layout": "IPY_MODEL_98fc6a2d14234c89a677912380853752",
            "placeholder": "​",
            "style": "IPY_MODEL_a50d3c41f5594f8a8f38cb063b85b847",
            "value": " 28.0/28.0 [00:00&lt;00:00, 2.03kB/s]"
          }
        },
        "67c48fd71c8c44808ea2a924e3cc11a4": {
          "model_module": "@jupyter-widgets/base",
          "model_name": "LayoutModel",
          "model_module_version": "1.2.0",
          "state": {
            "_model_module": "@jupyter-widgets/base",
            "_model_module_version": "1.2.0",
            "_model_name": "LayoutModel",
            "_view_count": null,
            "_view_module": "@jupyter-widgets/base",
            "_view_module_version": "1.2.0",
            "_view_name": "LayoutView",
            "align_content": null,
            "align_items": null,
            "align_self": null,
            "border": null,
            "bottom": null,
            "display": null,
            "flex": null,
            "flex_flow": null,
            "grid_area": null,
            "grid_auto_columns": null,
            "grid_auto_flow": null,
            "grid_auto_rows": null,
            "grid_column": null,
            "grid_gap": null,
            "grid_row": null,
            "grid_template_areas": null,
            "grid_template_columns": null,
            "grid_template_rows": null,
            "height": null,
            "justify_content": null,
            "justify_items": null,
            "left": null,
            "margin": null,
            "max_height": null,
            "max_width": null,
            "min_height": null,
            "min_width": null,
            "object_fit": null,
            "object_position": null,
            "order": null,
            "overflow": null,
            "overflow_x": null,
            "overflow_y": null,
            "padding": null,
            "right": null,
            "top": null,
            "visibility": null,
            "width": null
          }
        },
        "0fae0d0644b64706889283b43acdfdbf": {
          "model_module": "@jupyter-widgets/base",
          "model_name": "LayoutModel",
          "model_module_version": "1.2.0",
          "state": {
            "_model_module": "@jupyter-widgets/base",
            "_model_module_version": "1.2.0",
            "_model_name": "LayoutModel",
            "_view_count": null,
            "_view_module": "@jupyter-widgets/base",
            "_view_module_version": "1.2.0",
            "_view_name": "LayoutView",
            "align_content": null,
            "align_items": null,
            "align_self": null,
            "border": null,
            "bottom": null,
            "display": null,
            "flex": null,
            "flex_flow": null,
            "grid_area": null,
            "grid_auto_columns": null,
            "grid_auto_flow": null,
            "grid_auto_rows": null,
            "grid_column": null,
            "grid_gap": null,
            "grid_row": null,
            "grid_template_areas": null,
            "grid_template_columns": null,
            "grid_template_rows": null,
            "height": null,
            "justify_content": null,
            "justify_items": null,
            "left": null,
            "margin": null,
            "max_height": null,
            "max_width": null,
            "min_height": null,
            "min_width": null,
            "object_fit": null,
            "object_position": null,
            "order": null,
            "overflow": null,
            "overflow_x": null,
            "overflow_y": null,
            "padding": null,
            "right": null,
            "top": null,
            "visibility": null,
            "width": null
          }
        },
        "9501f95055244bc19ec3a38413b905ad": {
          "model_module": "@jupyter-widgets/controls",
          "model_name": "DescriptionStyleModel",
          "model_module_version": "1.5.0",
          "state": {
            "_model_module": "@jupyter-widgets/controls",
            "_model_module_version": "1.5.0",
            "_model_name": "DescriptionStyleModel",
            "_view_count": null,
            "_view_module": "@jupyter-widgets/base",
            "_view_module_version": "1.2.0",
            "_view_name": "StyleView",
            "description_width": ""
          }
        },
        "a163d4026f064207a7879121a575d31c": {
          "model_module": "@jupyter-widgets/base",
          "model_name": "LayoutModel",
          "model_module_version": "1.2.0",
          "state": {
            "_model_module": "@jupyter-widgets/base",
            "_model_module_version": "1.2.0",
            "_model_name": "LayoutModel",
            "_view_count": null,
            "_view_module": "@jupyter-widgets/base",
            "_view_module_version": "1.2.0",
            "_view_name": "LayoutView",
            "align_content": null,
            "align_items": null,
            "align_self": null,
            "border": null,
            "bottom": null,
            "display": null,
            "flex": null,
            "flex_flow": null,
            "grid_area": null,
            "grid_auto_columns": null,
            "grid_auto_flow": null,
            "grid_auto_rows": null,
            "grid_column": null,
            "grid_gap": null,
            "grid_row": null,
            "grid_template_areas": null,
            "grid_template_columns": null,
            "grid_template_rows": null,
            "height": null,
            "justify_content": null,
            "justify_items": null,
            "left": null,
            "margin": null,
            "max_height": null,
            "max_width": null,
            "min_height": null,
            "min_width": null,
            "object_fit": null,
            "object_position": null,
            "order": null,
            "overflow": null,
            "overflow_x": null,
            "overflow_y": null,
            "padding": null,
            "right": null,
            "top": null,
            "visibility": null,
            "width": null
          }
        },
        "42a29f24f992479c9da200ad8aae3e5e": {
          "model_module": "@jupyter-widgets/controls",
          "model_name": "ProgressStyleModel",
          "model_module_version": "1.5.0",
          "state": {
            "_model_module": "@jupyter-widgets/controls",
            "_model_module_version": "1.5.0",
            "_model_name": "ProgressStyleModel",
            "_view_count": null,
            "_view_module": "@jupyter-widgets/base",
            "_view_module_version": "1.2.0",
            "_view_name": "StyleView",
            "bar_color": null,
            "description_width": ""
          }
        },
        "98fc6a2d14234c89a677912380853752": {
          "model_module": "@jupyter-widgets/base",
          "model_name": "LayoutModel",
          "model_module_version": "1.2.0",
          "state": {
            "_model_module": "@jupyter-widgets/base",
            "_model_module_version": "1.2.0",
            "_model_name": "LayoutModel",
            "_view_count": null,
            "_view_module": "@jupyter-widgets/base",
            "_view_module_version": "1.2.0",
            "_view_name": "LayoutView",
            "align_content": null,
            "align_items": null,
            "align_self": null,
            "border": null,
            "bottom": null,
            "display": null,
            "flex": null,
            "flex_flow": null,
            "grid_area": null,
            "grid_auto_columns": null,
            "grid_auto_flow": null,
            "grid_auto_rows": null,
            "grid_column": null,
            "grid_gap": null,
            "grid_row": null,
            "grid_template_areas": null,
            "grid_template_columns": null,
            "grid_template_rows": null,
            "height": null,
            "justify_content": null,
            "justify_items": null,
            "left": null,
            "margin": null,
            "max_height": null,
            "max_width": null,
            "min_height": null,
            "min_width": null,
            "object_fit": null,
            "object_position": null,
            "order": null,
            "overflow": null,
            "overflow_x": null,
            "overflow_y": null,
            "padding": null,
            "right": null,
            "top": null,
            "visibility": null,
            "width": null
          }
        },
        "a50d3c41f5594f8a8f38cb063b85b847": {
          "model_module": "@jupyter-widgets/controls",
          "model_name": "DescriptionStyleModel",
          "model_module_version": "1.5.0",
          "state": {
            "_model_module": "@jupyter-widgets/controls",
            "_model_module_version": "1.5.0",
            "_model_name": "DescriptionStyleModel",
            "_view_count": null,
            "_view_module": "@jupyter-widgets/base",
            "_view_module_version": "1.2.0",
            "_view_name": "StyleView",
            "description_width": ""
          }
        },
        "31dc027867d94976905433edb6656eab": {
          "model_module": "@jupyter-widgets/controls",
          "model_name": "HBoxModel",
          "model_module_version": "1.5.0",
          "state": {
            "_dom_classes": [],
            "_model_module": "@jupyter-widgets/controls",
            "_model_module_version": "1.5.0",
            "_model_name": "HBoxModel",
            "_view_count": null,
            "_view_module": "@jupyter-widgets/controls",
            "_view_module_version": "1.5.0",
            "_view_name": "HBoxView",
            "box_style": "",
            "children": [
              "IPY_MODEL_e412c92466fd46fd8a6c8ccd7e6b34fd",
              "IPY_MODEL_f18ed0aba09a4c468fb0875d0433113f",
              "IPY_MODEL_503047e1ebc049e0b342d3af56212d80"
            ],
            "layout": "IPY_MODEL_ddac1a10d9a2497db34a18418cb45f2a"
          }
        },
        "e412c92466fd46fd8a6c8ccd7e6b34fd": {
          "model_module": "@jupyter-widgets/controls",
          "model_name": "HTMLModel",
          "model_module_version": "1.5.0",
          "state": {
            "_dom_classes": [],
            "_model_module": "@jupyter-widgets/controls",
            "_model_module_version": "1.5.0",
            "_model_name": "HTMLModel",
            "_view_count": null,
            "_view_module": "@jupyter-widgets/controls",
            "_view_module_version": "1.5.0",
            "_view_name": "HTMLView",
            "description": "",
            "description_tooltip": null,
            "layout": "IPY_MODEL_2e6120834ee840e3a3adcbe02d031c0e",
            "placeholder": "​",
            "style": "IPY_MODEL_e452fcd7b9714f11b019591c154dc85e",
            "value": "Downloading (…)lve/main/config.json: 100%"
          }
        },
        "f18ed0aba09a4c468fb0875d0433113f": {
          "model_module": "@jupyter-widgets/controls",
          "model_name": "FloatProgressModel",
          "model_module_version": "1.5.0",
          "state": {
            "_dom_classes": [],
            "_model_module": "@jupyter-widgets/controls",
            "_model_module_version": "1.5.0",
            "_model_name": "FloatProgressModel",
            "_view_count": null,
            "_view_module": "@jupyter-widgets/controls",
            "_view_module_version": "1.5.0",
            "_view_name": "ProgressView",
            "bar_style": "success",
            "description": "",
            "description_tooltip": null,
            "layout": "IPY_MODEL_1baca07341274c42a3d8db9f49e8fe18",
            "max": 570,
            "min": 0,
            "orientation": "horizontal",
            "style": "IPY_MODEL_0d83f51ef42047fb97f9f9d95f8fe854",
            "value": 570
          }
        },
        "503047e1ebc049e0b342d3af56212d80": {
          "model_module": "@jupyter-widgets/controls",
          "model_name": "HTMLModel",
          "model_module_version": "1.5.0",
          "state": {
            "_dom_classes": [],
            "_model_module": "@jupyter-widgets/controls",
            "_model_module_version": "1.5.0",
            "_model_name": "HTMLModel",
            "_view_count": null,
            "_view_module": "@jupyter-widgets/controls",
            "_view_module_version": "1.5.0",
            "_view_name": "HTMLView",
            "description": "",
            "description_tooltip": null,
            "layout": "IPY_MODEL_f04b5e203a48457397d656acde1780dc",
            "placeholder": "​",
            "style": "IPY_MODEL_39b26f27bc9f4c9480d6c4895c4d5eec",
            "value": " 570/570 [00:00&lt;00:00, 45.6kB/s]"
          }
        },
        "ddac1a10d9a2497db34a18418cb45f2a": {
          "model_module": "@jupyter-widgets/base",
          "model_name": "LayoutModel",
          "model_module_version": "1.2.0",
          "state": {
            "_model_module": "@jupyter-widgets/base",
            "_model_module_version": "1.2.0",
            "_model_name": "LayoutModel",
            "_view_count": null,
            "_view_module": "@jupyter-widgets/base",
            "_view_module_version": "1.2.0",
            "_view_name": "LayoutView",
            "align_content": null,
            "align_items": null,
            "align_self": null,
            "border": null,
            "bottom": null,
            "display": null,
            "flex": null,
            "flex_flow": null,
            "grid_area": null,
            "grid_auto_columns": null,
            "grid_auto_flow": null,
            "grid_auto_rows": null,
            "grid_column": null,
            "grid_gap": null,
            "grid_row": null,
            "grid_template_areas": null,
            "grid_template_columns": null,
            "grid_template_rows": null,
            "height": null,
            "justify_content": null,
            "justify_items": null,
            "left": null,
            "margin": null,
            "max_height": null,
            "max_width": null,
            "min_height": null,
            "min_width": null,
            "object_fit": null,
            "object_position": null,
            "order": null,
            "overflow": null,
            "overflow_x": null,
            "overflow_y": null,
            "padding": null,
            "right": null,
            "top": null,
            "visibility": null,
            "width": null
          }
        },
        "2e6120834ee840e3a3adcbe02d031c0e": {
          "model_module": "@jupyter-widgets/base",
          "model_name": "LayoutModel",
          "model_module_version": "1.2.0",
          "state": {
            "_model_module": "@jupyter-widgets/base",
            "_model_module_version": "1.2.0",
            "_model_name": "LayoutModel",
            "_view_count": null,
            "_view_module": "@jupyter-widgets/base",
            "_view_module_version": "1.2.0",
            "_view_name": "LayoutView",
            "align_content": null,
            "align_items": null,
            "align_self": null,
            "border": null,
            "bottom": null,
            "display": null,
            "flex": null,
            "flex_flow": null,
            "grid_area": null,
            "grid_auto_columns": null,
            "grid_auto_flow": null,
            "grid_auto_rows": null,
            "grid_column": null,
            "grid_gap": null,
            "grid_row": null,
            "grid_template_areas": null,
            "grid_template_columns": null,
            "grid_template_rows": null,
            "height": null,
            "justify_content": null,
            "justify_items": null,
            "left": null,
            "margin": null,
            "max_height": null,
            "max_width": null,
            "min_height": null,
            "min_width": null,
            "object_fit": null,
            "object_position": null,
            "order": null,
            "overflow": null,
            "overflow_x": null,
            "overflow_y": null,
            "padding": null,
            "right": null,
            "top": null,
            "visibility": null,
            "width": null
          }
        },
        "e452fcd7b9714f11b019591c154dc85e": {
          "model_module": "@jupyter-widgets/controls",
          "model_name": "DescriptionStyleModel",
          "model_module_version": "1.5.0",
          "state": {
            "_model_module": "@jupyter-widgets/controls",
            "_model_module_version": "1.5.0",
            "_model_name": "DescriptionStyleModel",
            "_view_count": null,
            "_view_module": "@jupyter-widgets/base",
            "_view_module_version": "1.2.0",
            "_view_name": "StyleView",
            "description_width": ""
          }
        },
        "1baca07341274c42a3d8db9f49e8fe18": {
          "model_module": "@jupyter-widgets/base",
          "model_name": "LayoutModel",
          "model_module_version": "1.2.0",
          "state": {
            "_model_module": "@jupyter-widgets/base",
            "_model_module_version": "1.2.0",
            "_model_name": "LayoutModel",
            "_view_count": null,
            "_view_module": "@jupyter-widgets/base",
            "_view_module_version": "1.2.0",
            "_view_name": "LayoutView",
            "align_content": null,
            "align_items": null,
            "align_self": null,
            "border": null,
            "bottom": null,
            "display": null,
            "flex": null,
            "flex_flow": null,
            "grid_area": null,
            "grid_auto_columns": null,
            "grid_auto_flow": null,
            "grid_auto_rows": null,
            "grid_column": null,
            "grid_gap": null,
            "grid_row": null,
            "grid_template_areas": null,
            "grid_template_columns": null,
            "grid_template_rows": null,
            "height": null,
            "justify_content": null,
            "justify_items": null,
            "left": null,
            "margin": null,
            "max_height": null,
            "max_width": null,
            "min_height": null,
            "min_width": null,
            "object_fit": null,
            "object_position": null,
            "order": null,
            "overflow": null,
            "overflow_x": null,
            "overflow_y": null,
            "padding": null,
            "right": null,
            "top": null,
            "visibility": null,
            "width": null
          }
        },
        "0d83f51ef42047fb97f9f9d95f8fe854": {
          "model_module": "@jupyter-widgets/controls",
          "model_name": "ProgressStyleModel",
          "model_module_version": "1.5.0",
          "state": {
            "_model_module": "@jupyter-widgets/controls",
            "_model_module_version": "1.5.0",
            "_model_name": "ProgressStyleModel",
            "_view_count": null,
            "_view_module": "@jupyter-widgets/base",
            "_view_module_version": "1.2.0",
            "_view_name": "StyleView",
            "bar_color": null,
            "description_width": ""
          }
        },
        "f04b5e203a48457397d656acde1780dc": {
          "model_module": "@jupyter-widgets/base",
          "model_name": "LayoutModel",
          "model_module_version": "1.2.0",
          "state": {
            "_model_module": "@jupyter-widgets/base",
            "_model_module_version": "1.2.0",
            "_model_name": "LayoutModel",
            "_view_count": null,
            "_view_module": "@jupyter-widgets/base",
            "_view_module_version": "1.2.0",
            "_view_name": "LayoutView",
            "align_content": null,
            "align_items": null,
            "align_self": null,
            "border": null,
            "bottom": null,
            "display": null,
            "flex": null,
            "flex_flow": null,
            "grid_area": null,
            "grid_auto_columns": null,
            "grid_auto_flow": null,
            "grid_auto_rows": null,
            "grid_column": null,
            "grid_gap": null,
            "grid_row": null,
            "grid_template_areas": null,
            "grid_template_columns": null,
            "grid_template_rows": null,
            "height": null,
            "justify_content": null,
            "justify_items": null,
            "left": null,
            "margin": null,
            "max_height": null,
            "max_width": null,
            "min_height": null,
            "min_width": null,
            "object_fit": null,
            "object_position": null,
            "order": null,
            "overflow": null,
            "overflow_x": null,
            "overflow_y": null,
            "padding": null,
            "right": null,
            "top": null,
            "visibility": null,
            "width": null
          }
        },
        "39b26f27bc9f4c9480d6c4895c4d5eec": {
          "model_module": "@jupyter-widgets/controls",
          "model_name": "DescriptionStyleModel",
          "model_module_version": "1.5.0",
          "state": {
            "_model_module": "@jupyter-widgets/controls",
            "_model_module_version": "1.5.0",
            "_model_name": "DescriptionStyleModel",
            "_view_count": null,
            "_view_module": "@jupyter-widgets/base",
            "_view_module_version": "1.2.0",
            "_view_name": "StyleView",
            "description_width": ""
          }
        }
      }
    }
  },
  "cells": [
    {
      "cell_type": "markdown",
      "source": [
        "# **Fine-tuning CLIP for Visual Grounding tasks**\n",
        "\n",
        "*Abstract*\n",
        "\n",
        "Visual Grounding is a challenging task which aims to locate an object in an image based on a natural language query. Despite impressive advances in computer vision and natural language processing, relating different parts of image and text to achieve a good comprehension of context is still a big research area. In our work, we explored some ways to solve the problem by exploiting the image-text alignment already present in Clip as a foundation model for new frameworks specialized in Visual Grounding.\n",
        "\n",
        "\\\n",
        "*Introduction*\n",
        "\n",
        "First, we propose a baseline that combines the object detector Yolo [1] and CLIP [2] model without any other component. For each candidate object proposed by Yolo is computed a cosine similarity with the text query and the most similar one is chosen as output prediction. We then tried to break free from the object detector developing a framework based on heatmaps [3] to retrieve the target object and on SAM [4] to draw a proper bounding box. We finally developed a new framework obtained by customizing the CLIP model to compute a low-level probability map from which we find a bounding box through some up-sampling convolutions [5]. Fine-tuning allowed us to leverage Clip strengths without the need for heavy training, therefore beyond the results, it seems to be the most promising direction.\n",
        "\n",
        "\\\n",
        "\n",
        "*Related work*\n",
        "\n",
        "- Visual Grounding\n",
        "- Reffering Image Segmentation\n",
        "- Adapters and Fine-tuning\n",
        "\n",
        "\n",
        "<!-- The recent development of new and promising models and methods has lead to a surprising advancement and spread of deep learning frameworks in many areas. Nevertheless, many issues are still far from being fully solved and a lot of researchers are still working on them.\\\n",
        "Visual Grounding is one of this complex task: it consists in retrievial an object in a image based on a text description. To solve the problem, a model has not only to have a deep comprehension of both image and text, but also to be able to relate effectively local and global context.\\\n",
        "Our system try to achieve this aim exploiting the image text allignement already present in Clip and fine-tuning it to adapt to the new objective.\n",
        "\n",
        "\\\n",
        "In this paper, we propose a transformer based approach for\n",
        "visual grounding. Unlike existing proposal-and-rank frame\u0002works that rely heavily on pretrained object detectors or\n",
        "proposal-free frameworks that upgrade an off-the-shelf one\u0002stage detector by fusing textual embeddings, our approach\n",
        "is built on top of a transformer encoder-decoder and is inde\u0002pendent of any pretrained detectors or word embedding mod\u0002els. Termed as VGTR – Visual Grounding with TRansform\u0002ers, our approach is designed to learn semantic-discriminative\n",
        "visual features under the guidance of the textual description\n",
        "without harming their location ability. This information flow\n",
        "enables our VGTR to have a strong capability in capturing\n",
        "context-level semantics of both vision and language modali\u0002ties, rendering us to aggregate accurate visual clues implied\n",
        "by the description to locate the interested object instance. Ex\u0002periments show that our method outperforms state-of-the-art\n",
        "proposal-free approaches by a considerable margin on four\n",
        "benchmarks.\n",
        "\n",
        "\\\n",
        "Recent advances in computer vision and natural language processing have naturally\n",
        "led to active research in multi-modal tasks, including Referring Image Segmen\u0002tation (RIS). Recent approaches have advanced the frontier of RIS by impressive\n",
        "margins, but they require an additional pretraining stage on external visual ground\u0002ing datasets to achieve the state-of-the-art performances. We attempt to break free\n",
        "from this requirement by effectively adapting Contrastive Language-Image Pre\u0002training (CLIP) to RIS. We propose a novel framework that residually adapts frozen\n",
        "CLIP features to RIS with Fusion Adapters and Backbone Adapters. Freezing CLIP\n",
        "preserves the backbone’s rich, general image-text alignment knowledge, whilst\n",
        "Fusion Adapters introduce multi-modal communication and Backbone Adapters\n",
        "inject new knowledge useful in solving RIS. Our method reaches a new state of the\n",
        "art on three major RIS benchmarks. We attain such performance without additional\n",
        "pretraining and thereby absolve the necessity of extra training and data preparation.\n",
        "Source code and model weights will be available upon publication -->"
      ],
      "metadata": {
        "id": "1adXw_8zKGiD"
      }
    },
    {
      "cell_type": "markdown",
      "source": [
        "# Baseline\n",
        "\n",
        "In this section, we implemented a baseline using Yolo and CLIP. We process one image at a time and use Yolo to detect all relevant objects in the image. We then use the CLIP visual encoder to encode each candidate and the text encoder to encode the text query. Finally, we compute a cosine similarity between the encodings of each object and the text query. In case of more sentences, we compute the average of the similarities for each one. We consider as output the object with the higher similarity.\n"
      ],
      "metadata": {
        "id": "PO6dyfGJLWgY"
      }
    },
    {
      "cell_type": "markdown",
      "source": [
        "### Things to install"
      ],
      "metadata": {
        "id": "NSTDn-Oz5Hum"
      }
    },
    {
      "cell_type": "code",
      "source": [
        "# download CLIP\n",
        "!pip install ftfy regex tqdm\n",
        "!pip install git+https://github.com/openai/CLIP.git\n",
        "\n",
        "# download and unzip RefCOCOg dataset\n",
        "!gdown 1xijq32XfEm6FPhUb7RsZYWHc2UuwVkiq\n",
        "!tar -xf /content/refcocog.tar.gz\n",
        "\n",
        "# download Yolo\n",
        "!pip install -qr https://raw.githubusercontent.com/ultralytics/yolov5/master/requirements.txt"
      ],
      "metadata": {
        "colab": {
          "base_uri": "https://localhost:8080/"
        },
        "id": "z5TPdQAV4c8X",
        "outputId": "a6664c49-dbb7-46d9-d8e8-be3267ae45fc"
      },
      "execution_count": 1,
      "outputs": [
        {
          "output_type": "stream",
          "name": "stdout",
          "text": [
            "Collecting ftfy\n",
            "  Downloading ftfy-6.1.1-py3-none-any.whl (53 kB)\n",
            "\u001b[?25l     \u001b[90m━━━━━━━━━━━━━━━━━━━━━━━━━━━━━━━━━━━━━━━━\u001b[0m \u001b[32m0.0/53.1 kB\u001b[0m \u001b[31m?\u001b[0m eta \u001b[36m-:--:--\u001b[0m\r\u001b[2K     \u001b[90m━━━━━━━━━━━━━━━━━━━━━━━━━━━━━━━━━━━━━━━━\u001b[0m \u001b[32m53.1/53.1 kB\u001b[0m \u001b[31m1.4 MB/s\u001b[0m eta \u001b[36m0:00:00\u001b[0m\n",
            "\u001b[?25hRequirement already satisfied: regex in /usr/local/lib/python3.10/dist-packages (2023.6.3)\n",
            "Requirement already satisfied: tqdm in /usr/local/lib/python3.10/dist-packages (4.66.1)\n",
            "Requirement already satisfied: wcwidth>=0.2.5 in /usr/local/lib/python3.10/dist-packages (from ftfy) (0.2.6)\n",
            "Installing collected packages: ftfy\n",
            "Successfully installed ftfy-6.1.1\n",
            "Collecting git+https://github.com/openai/CLIP.git\n",
            "  Cloning https://github.com/openai/CLIP.git to /tmp/pip-req-build-hie1j3rh\n",
            "  Running command git clone --filter=blob:none --quiet https://github.com/openai/CLIP.git /tmp/pip-req-build-hie1j3rh\n",
            "  Resolved https://github.com/openai/CLIP.git to commit a1d071733d7111c9c014f024669f959182114e33\n",
            "  Preparing metadata (setup.py) ... \u001b[?25l\u001b[?25hdone\n",
            "Requirement already satisfied: ftfy in /usr/local/lib/python3.10/dist-packages (from clip==1.0) (6.1.1)\n",
            "Requirement already satisfied: regex in /usr/local/lib/python3.10/dist-packages (from clip==1.0) (2023.6.3)\n",
            "Requirement already satisfied: tqdm in /usr/local/lib/python3.10/dist-packages (from clip==1.0) (4.66.1)\n",
            "Requirement already satisfied: torch in /usr/local/lib/python3.10/dist-packages (from clip==1.0) (2.0.1+cu118)\n",
            "Requirement already satisfied: torchvision in /usr/local/lib/python3.10/dist-packages (from clip==1.0) (0.15.2+cu118)\n",
            "Requirement already satisfied: wcwidth>=0.2.5 in /usr/local/lib/python3.10/dist-packages (from ftfy->clip==1.0) (0.2.6)\n",
            "Requirement already satisfied: filelock in /usr/local/lib/python3.10/dist-packages (from torch->clip==1.0) (3.12.2)\n",
            "Requirement already satisfied: typing-extensions in /usr/local/lib/python3.10/dist-packages (from torch->clip==1.0) (4.7.1)\n",
            "Requirement already satisfied: sympy in /usr/local/lib/python3.10/dist-packages (from torch->clip==1.0) (1.12)\n",
            "Requirement already satisfied: networkx in /usr/local/lib/python3.10/dist-packages (from torch->clip==1.0) (3.1)\n",
            "Requirement already satisfied: jinja2 in /usr/local/lib/python3.10/dist-packages (from torch->clip==1.0) (3.1.2)\n",
            "Requirement already satisfied: triton==2.0.0 in /usr/local/lib/python3.10/dist-packages (from torch->clip==1.0) (2.0.0)\n",
            "Requirement already satisfied: cmake in /usr/local/lib/python3.10/dist-packages (from triton==2.0.0->torch->clip==1.0) (3.27.2)\n",
            "Requirement already satisfied: lit in /usr/local/lib/python3.10/dist-packages (from triton==2.0.0->torch->clip==1.0) (16.0.6)\n",
            "Requirement already satisfied: numpy in /usr/local/lib/python3.10/dist-packages (from torchvision->clip==1.0) (1.23.5)\n",
            "Requirement already satisfied: requests in /usr/local/lib/python3.10/dist-packages (from torchvision->clip==1.0) (2.31.0)\n",
            "Requirement already satisfied: pillow!=8.3.*,>=5.3.0 in /usr/local/lib/python3.10/dist-packages (from torchvision->clip==1.0) (9.4.0)\n",
            "Requirement already satisfied: MarkupSafe>=2.0 in /usr/local/lib/python3.10/dist-packages (from jinja2->torch->clip==1.0) (2.1.3)\n",
            "Requirement already satisfied: charset-normalizer<4,>=2 in /usr/local/lib/python3.10/dist-packages (from requests->torchvision->clip==1.0) (3.2.0)\n",
            "Requirement already satisfied: idna<4,>=2.5 in /usr/local/lib/python3.10/dist-packages (from requests->torchvision->clip==1.0) (3.4)\n",
            "Requirement already satisfied: urllib3<3,>=1.21.1 in /usr/local/lib/python3.10/dist-packages (from requests->torchvision->clip==1.0) (2.0.4)\n",
            "Requirement already satisfied: certifi>=2017.4.17 in /usr/local/lib/python3.10/dist-packages (from requests->torchvision->clip==1.0) (2023.7.22)\n",
            "Requirement already satisfied: mpmath>=0.19 in /usr/local/lib/python3.10/dist-packages (from sympy->torch->clip==1.0) (1.3.0)\n",
            "Building wheels for collected packages: clip\n",
            "  Building wheel for clip (setup.py) ... \u001b[?25l\u001b[?25hdone\n",
            "  Created wheel for clip: filename=clip-1.0-py3-none-any.whl size=1369499 sha256=2a50fe4df79997e7c2b04c80596e4eb9705546c4423874bb131532e122f8635d\n",
            "  Stored in directory: /tmp/pip-ephem-wheel-cache-_t5v5exu/wheels/da/2b/4c/d6691fa9597aac8bb85d2ac13b112deb897d5b50f5ad9a37e4\n",
            "Successfully built clip\n",
            "Installing collected packages: clip\n",
            "Successfully installed clip-1.0\n",
            "Downloading...\n",
            "From: https://drive.google.com/uc?id=1xijq32XfEm6FPhUb7RsZYWHc2UuwVkiq\n",
            "To: /content/refcocog.tar.gz\n",
            "100% 13.5G/13.5G [02:16<00:00, 98.7MB/s]\n",
            "\u001b[2K     \u001b[90m━━━━━━━━━━━━━━━━━━━━━━━━━━━━━━━━━━━━━━━\u001b[0m \u001b[32m188.5/188.5 kB\u001b[0m \u001b[31m3.5 MB/s\u001b[0m eta \u001b[36m0:00:00\u001b[0m\n",
            "\u001b[2K     \u001b[90m━━━━━━━━━━━━━━━━━━━━━━━━━━━━━━━━━━━━━━\u001b[0m \u001b[32m609.5/609.5 kB\u001b[0m \u001b[31m45.4 MB/s\u001b[0m eta \u001b[36m0:00:00\u001b[0m\n",
            "\u001b[2K     \u001b[90m━━━━━━━━━━━━━━━━━━━━━━━━━━━━━━━━━━━━━━━━\u001b[0m \u001b[32m62.7/62.7 kB\u001b[0m \u001b[31m7.4 MB/s\u001b[0m eta \u001b[36m0:00:00\u001b[0m\n",
            "\u001b[?25h"
          ]
        }
      ]
    },
    {
      "cell_type": "markdown",
      "source": [
        "### Baseline Dataset"
      ],
      "metadata": {
        "id": "pFpuJURz5B_q"
      }
    },
    {
      "cell_type": "code",
      "source": [
        "import json\n",
        "import clip\n",
        "import torch\n",
        "import pandas\n",
        "import numpy as np\n",
        "\n",
        "from torch.utils.data import Dataset, DataLoader\n",
        "from typing import Sequence, Union\n",
        "\n",
        "from PIL import Image, ImageDraw\n",
        "\n",
        "\n",
        "\n",
        "class RefcocogDataset(Dataset):\n",
        "    \"\"\"  Custom dataset class for RefCOCOg dataset \"\"\"\n",
        "\n",
        "    def __init__(self, base_path, split=None, transform=None, tokenization=None):\n",
        "        annotation_path = base_path + \"/annotations/\"\n",
        "\n",
        "        self.IMAGES_PATH = base_path + \"/images/\"\n",
        "        self.transform = transform\n",
        "        self.tokenization = tokenization\n",
        "\n",
        "        tmp_annotations = pandas.read_pickle(annotation_path + \"refs(umd).p\")\n",
        "        tmp_instances = json.load(open(annotation_path + \"instances.json\", \"r\"))\n",
        "\n",
        "        annotations_dt = pandas.DataFrame.from_records(tmp_annotations) \\\n",
        "            .filter(items=[\"image_id\", \"split\", \"sentences\", \"ann_id\"])\n",
        "\n",
        "        instances_dt = pandas.DataFrame.from_records(tmp_instances['annotations'])\n",
        "\n",
        "        self.annotations = annotations_dt \\\n",
        "            .merge(instances_dt[[\"id\", \"bbox\", \"area\"]], left_on=\"ann_id\", right_on=\"id\") \\\n",
        "            .drop(columns=\"id\")\n",
        "\n",
        "        if split is not None:\n",
        "            self.annotations = self.__get_annotations_by_split(split.lower())\n",
        "\n",
        "    def getImage(self, sample):\n",
        "        id = sample['idx'][0].item()\n",
        "        item = self.annotations.iloc[id]\n",
        "        image = self.__getimage(item.image_id)\n",
        "\n",
        "        return image\n",
        "\n",
        "    def getSentences(self, sample):\n",
        "        id = sample['idx'][0].item()\n",
        "        item = self.annotations.iloc[id]\n",
        "\n",
        "        return self.__extract_sentences(item.sentences)\n",
        "\n",
        "    def showImage(self, train_features, train_bbox):\n",
        "        img = self.getImage(train_features)\n",
        "        img1 = ImageDraw.Draw(img)\n",
        "        img1.rectangle([(train_bbox[0].item(), train_bbox[1].item()), (train_bbox[0].item()+train_bbox[2].item(), train_bbox[1].item()+train_bbox[3].item())], outline =\"red\")\n",
        "        img.show()\n",
        "\n",
        "    def __get_annotations_by_split(self, split):\n",
        "        return self.annotations[self.annotations.split == split].reset_index()\n",
        "\n",
        "    def __getimage(self, id):\n",
        "        return Image.open(self.IMAGES_PATH + \"COCO_train2014_\" + str(id).zfill(12) + \".jpg\")\n",
        "\n",
        "    def __extract_sentences(self, sentences):\n",
        "        return [f\"a photo of {s['sent']}\" for s in sentences]\n",
        "\n",
        "    def __tokenize_sents(self, sentences):\n",
        "        return [self.tokenization(s) for s in sentences]\n",
        "\n",
        "    def __len__(self):\n",
        "        return self.annotations.shape[0]\n",
        "\n",
        "    def __getitem__(self, idx):\n",
        "        item = self.annotations.iloc[idx]\n",
        "        image = self.__getimage(item.image_id)\n",
        "        sentences = self.__extract_sentences(item.sentences)\n",
        "\n",
        "        if self.transform:\n",
        "            image = self.transform(image)\n",
        "\n",
        "        if self.tokenization:\n",
        "            sentences = self.__tokenize_sents(sentences)\n",
        "\n",
        "        sample = {'idx': idx, 'image': image, 'sentences': sentences}\n",
        "\n",
        "        return sample, item.bbox"
      ],
      "metadata": {
        "id": "Qq8SenSc6cRs"
      },
      "execution_count": 3,
      "outputs": []
    },
    {
      "cell_type": "code",
      "source": [
        "# General Variables\n",
        "REFCOCOG_PATH = \"refcocog\"\n",
        "\n",
        "if __name__ == \"__main__\":\n",
        "    _, preprocess = clip.load(\"RN50\")\n",
        "\n",
        "    train_dataset = RefcocogDataset(REFCOCOG_PATH, split=\"train\", transform=preprocess, tokenization=clip.tokenize)\n",
        "    val_dataset = RefcocogDataset(REFCOCOG_PATH, split=\"val\", transform=preprocess, tokenization=clip.tokenize)\n",
        "    test_dataset = RefcocogDataset(REFCOCOG_PATH, split=\"test\", transform=preprocess, tokenization=clip.tokenize)\n",
        "\n",
        "    train_dataloader = DataLoader(train_dataset, shuffle=False)\n",
        "    val_dataloader = DataLoader(val_dataset, shuffle=False)\n",
        "    test_dataloader = DataLoader(test_dataset, shuffle=False)"
      ],
      "metadata": {
        "id": "p879Sfpg4hc7",
        "colab": {
          "base_uri": "https://localhost:8080/"
        },
        "outputId": "211c3c7c-3959-442d-d3a9-e9348e1ae5c6"
      },
      "execution_count": 4,
      "outputs": [
        {
          "output_type": "stream",
          "name": "stderr",
          "text": [
            "100%|████████████████████████████████████████| 244M/244M [00:01<00:00, 238MiB/s]\n"
          ]
        }
      ]
    },
    {
      "cell_type": "markdown",
      "source": [
        "### Baseline Pipeline"
      ],
      "metadata": {
        "id": "-wr4pQLE4rGM"
      }
    },
    {
      "cell_type": "code",
      "source": [
        "# Loading of Yolo and CLIP  model\n",
        "modelYOLO = torch.hub.load('ultralytics/yolov5', 'yolov5x')\n",
        "device = \"cuda\" if torch.cuda.is_available() else \"cpu\"\n",
        "modelCLIP, preprocessCLIP = clip.load(\"RN50\", device=device)\n"
      ],
      "metadata": {
        "id": "A0WooMeK4hNP",
        "colab": {
          "base_uri": "https://localhost:8080/"
        },
        "outputId": "6e69465d-98c5-4ce2-97d5-8aa9f1714076"
      },
      "execution_count": 5,
      "outputs": [
        {
          "output_type": "stream",
          "name": "stderr",
          "text": [
            "/usr/local/lib/python3.10/dist-packages/torch/hub.py:286: UserWarning: You are about to download and run code from an untrusted repository. In a future release, this won't be allowed. To add the repository to your trusted list, change the command to {calling_fn}(..., trust_repo=False) and a command prompt will appear asking for an explicit confirmation of trust, or load(..., trust_repo=True), which will assume that the prompt is to be answered with 'yes'. You can also use load(..., trust_repo='check') which will only prompt for confirmation if the repo is not already trusted. This will eventually be the default behaviour\n",
            "  warnings.warn(\n",
            "Downloading: \"https://github.com/ultralytics/yolov5/zipball/master\" to /root/.cache/torch/hub/master.zip\n",
            "YOLOv5 🚀 2023-8-24 Python-3.10.12 torch-2.0.1+cu118 CUDA:0 (Tesla T4, 15102MiB)\n",
            "\n",
            "Downloading https://github.com/ultralytics/yolov5/releases/download/v7.0/yolov5x.pt to yolov5x.pt...\n",
            "100%|██████████| 166M/166M [00:09<00:00, 18.1MB/s]\n",
            "\n",
            "Fusing layers... \n",
            "YOLOv5x summary: 444 layers, 86705005 parameters, 0 gradients\n",
            "Adding AutoShape... \n"
          ]
        }
      ]
    },
    {
      "cell_type": "code",
      "source": [
        "def YoloBBoxes(img, modelYOLO):\n",
        "    \"\"\"  Applies Yolo model on the image and returns bbox \"\"\"\n",
        "    result = modelYOLO(img)\n",
        "    # result.show()\n",
        "    bbox = result.pandas().xyxy[0]\n",
        "    bbox = bbox.reset_index()\n",
        "    bbox[\"tconfidence\"] = np.nan\n",
        "    bbox[\"crop\"] = np.nan\n",
        "    return bbox\n",
        "\n",
        "def CropImage(image, boxs):\n",
        "    \"\"\" Returns a list of crops of the image  \"\"\"\n",
        "    crops = []\n",
        "    for index, row in boxs.iterrows():\n",
        "        box = (\n",
        "            row['xmin'],\n",
        "            row['ymin'],\n",
        "            row['xmax'],\n",
        "            row['ymax'],\n",
        "        )\n",
        "        crop = image.crop(box)\n",
        "        crops.append(crop)\n",
        "        boxs.at[index, 'crop'] = crop\n",
        "    return crops\n",
        "\n",
        "def computeSimilarity(image, sentences, modelCLIP, preprocessCLIP):\n",
        "    \"\"\" compute cosine similarity between a sentence amd an image \"\"\"\n",
        "    similarities = []\n",
        "    for sent in sentences:\n",
        "        with torch.no_grad():\n",
        "            image_features = modelCLIP.encode_image(torch.unsqueeze(preprocessCLIP(image).to(device), dim=0)).float().to(device)\n",
        "            text_features = modelCLIP.encode_text(sent[0].to(device)).float().to(device)\n",
        "        image_features /= image_features.norm(dim=-1, keepdim=True)\n",
        "        text_features /= text_features.norm(dim=-1, keepdim=True)\n",
        "        similarities.append(text_features.cpu().numpy() @ image_features.cpu().numpy().T)\n",
        "    return sum(similarities)/len(similarities)\n",
        "\n",
        "def computeIntersection(fx1, fy1, fx2, fy2, sx1, sy1, sx2, sy2):\n",
        "    \"\"\" Compute Intersection area between two bboxes \"\"\"\n",
        "    dx = min(fx2, sx2) - max(fx1, sx1)\n",
        "    dy = min(fy2, sy2) - max(fy1, sy1)\n",
        "    if (dx>=0) and (dy>=0):\n",
        "        area = dx*dy\n",
        "    else:\n",
        "        area = 0\n",
        "    return area\n",
        "\n",
        "def computeAccuracy(bboxes, index, label):\n",
        "    \"\"\" compute Itersection of Union between two bboxes \"\"\"\n",
        "    intersection = computeIntersection(bboxes['xmin'][index], bboxes['ymin'][index], bboxes['xmax'][index], bboxes['ymax'][index],\n",
        "                                       label[0].item(), label[1].item(), label[0].item()+label[2].item(), label[1].item()+label[3].item())\n",
        "    area1 = (bboxes['xmax'][index]-bboxes['xmin'][index])*(bboxes['ymax'][index]-bboxes['ymin'][index])\n",
        "    area2 = label[2].item()*label[3].item()\n",
        "    union = area1 + area2 - intersection\n",
        "    return intersection / union"
      ],
      "metadata": {
        "id": "V-yq1xmI4rpA"
      },
      "execution_count": 6,
      "outputs": []
    },
    {
      "cell_type": "code",
      "source": [
        "def baseline(loader, dataset, modelYOLO, modelCLIP, preprocessCLIP):\n",
        "    n_samples = 0\n",
        "    tot_accuracy = 0\n",
        "    for data_features, data_bbox in loader:\n",
        "\n",
        "        bboxes = YoloBBoxes(dataset.getImage(data_features), modelYOLO)\n",
        "        crops = CropImage(dataset.getImage(data_features), bboxes)\n",
        "\n",
        "\n",
        "        if len(crops) > 0:\n",
        "            highest_similarity = 0\n",
        "            index_pred = 0\n",
        "            for i, crop in enumerate(crops):\n",
        "                similarity = computeSimilarity(crop, data_features['sentences'], modelCLIP, preprocessCLIP)\n",
        "                if similarity > highest_similarity:\n",
        "                    highest_similarity = similarity\n",
        "                    index_pred = i\n",
        "\n",
        "            accuracy = computeAccuracy(bboxes, index_pred, data_bbox)\n",
        "        else:\n",
        "            accuracy = 0\n",
        "\n",
        "        if accuracy>=0.5:\n",
        "          tot_accuracy += 1\n",
        "        n_samples += 1\n",
        "        # print(f'Image {n_samples:^8}/{len(dataset):^8}\\t{accuracy}\\t{accuracy>=0.5}')\n",
        "\n",
        "        if n_samples%200==0:\n",
        "          print(f'Total accuracy after {n_samples} samples:\\t{tot_accuracy/n_samples}')\n",
        "\n",
        "    return tot_accuracy/n_samples\n"
      ],
      "metadata": {
        "id": "l2szWvPp4slY"
      },
      "execution_count": 7,
      "outputs": []
    },
    {
      "cell_type": "markdown",
      "source": [
        "### Run the code"
      ],
      "metadata": {
        "id": "bIBaofzD2XGH"
      }
    },
    {
      "cell_type": "code",
      "source": [
        "baseline(test_dataloader, test_dataset, modelYOLO, modelCLIP, preprocessCLIP)"
      ],
      "metadata": {
        "id": "eNA-ji9q4siA",
        "colab": {
          "base_uri": "https://localhost:8080/"
        },
        "outputId": "3f928f4c-a67b-4d08-92da-8a2501c370e2"
      },
      "execution_count": 8,
      "outputs": [
        {
          "output_type": "stream",
          "name": "stdout",
          "text": [
            "Total accuracy after 200 samples:\t0.61\n",
            "Total accuracy after 400 samples:\t0.6125\n",
            "Total accuracy after 600 samples:\t0.6083333333333333\n",
            "Total accuracy after 800 samples:\t0.6125\n",
            "Total accuracy after 1000 samples:\t0.615\n",
            "Total accuracy after 1200 samples:\t0.6191666666666666\n",
            "Total accuracy after 1400 samples:\t0.62\n",
            "Total accuracy after 1600 samples:\t0.614375\n",
            "Total accuracy after 1800 samples:\t0.6094444444444445\n",
            "Total accuracy after 2000 samples:\t0.6075\n",
            "Total accuracy after 2200 samples:\t0.605\n",
            "Total accuracy after 2400 samples:\t0.60125\n",
            "Total accuracy after 2600 samples:\t0.6026923076923076\n",
            "Total accuracy after 2800 samples:\t0.5960714285714286\n",
            "Total accuracy after 3000 samples:\t0.594\n",
            "Total accuracy after 3200 samples:\t0.5934375\n",
            "Total accuracy after 3400 samples:\t0.5947058823529412\n",
            "Total accuracy after 3600 samples:\t0.5988888888888889\n",
            "Total accuracy after 3800 samples:\t0.598421052631579\n",
            "Total accuracy after 4000 samples:\t0.59825\n",
            "Total accuracy after 4200 samples:\t0.599047619047619\n",
            "Total accuracy after 4400 samples:\t0.5961363636363637\n",
            "Total accuracy after 4600 samples:\t0.5982608695652174\n",
            "Total accuracy after 4800 samples:\t0.596875\n",
            "Total accuracy after 5000 samples:\t0.5972\n"
          ]
        },
        {
          "output_type": "execute_result",
          "data": {
            "text/plain": [
              "0.5974517220784392"
            ]
          },
          "metadata": {},
          "execution_count": 8
        }
      ]
    },
    {
      "cell_type": "markdown",
      "source": [
        "### Observations\n",
        "\n",
        "This baseline highlights the zero-shot capabilities of CLIP, which can be exploited as part of a framework for tasks it wasn't designed for, such as Visual Grounding.\n",
        "The accuracy of each prediction is measured with the Intersection of Union and a predicted bounding box is considered correct if its $ IoU \\ge 0.5$.\n",
        "\n",
        "Our baseline reached an accuracy of $59.74\\%$, which can be considered a good result. This is due to the capabilities of Yolo to extract a wide range of candidates and of Clip to give a similarity measure of text and image. However, we found also important limitations that need to be tackled to improve the system:\n",
        "\n",
        "1. Dependency on the object detector performance\\\n",
        "If the object detector does not retrieve an object, there is no possibility to output the correct bbox with this pipeline, and this is often the case if we are looking for small objects maybe only partially visible.\n",
        "\n",
        "2. Lack of Context Comprehension\\\n",
        "In the case of multiple instances of the same object, this baseline is not capable of using the context to infer which one we are referring to. This is a major problem because relating text and image components is at the heart of Visual Grounding, therefore it puts in evidence the necessity for further modifications.\n",
        "\n",
        "\n",
        "We moved on trying to face these two issues. At first, we developed another pipeline in which there is no need for an object detector and subsequently, we focused on the problem of the context which forced us to embark on a new path."
      ],
      "metadata": {
        "id": "vPNevSD_M-aa"
      }
    },
    {
      "cell_type": "markdown",
      "source": [
        "# Baseline without Object Detector\n",
        "\n",
        "This baseline proposes a new pipeline which avoids the use of an object detector. We extract a heat map from each image using the library proposed by Lavis. From this map, we extract some points with high confidence to belong to the target object. We then use SAM (Segment Anything Model) to get a mask of the object and hence an output bounding box."
      ],
      "metadata": {
        "id": "haN3BjUWEr3e"
      }
    },
    {
      "cell_type": "markdown",
      "source": [
        "### Things to import"
      ],
      "metadata": {
        "id": "fY1L880Oj5xZ"
      }
    },
    {
      "cell_type": "code",
      "source": [
        "# If not already install uncomment the following code\n",
        "\n",
        "# # CLIP\n",
        "# !pip install ftfy regex tqdm\n",
        "# !pip install git+https://github.com/openai/CLIP.git\n",
        "\n",
        "# # REFCOCOG\n",
        "# !gdown 1xijq32XfEm6FPhUb7RsZYWHc2UuwVkiq\n",
        "# !tar -xf /content/refcocog.tar.gz\n",
        "\n",
        "# LAVIS\n",
        "!pip install salesforce-lavis\n"
      ],
      "metadata": {
        "colab": {
          "base_uri": "https://localhost:8080/",
          "height": 1000
        },
        "id": "-zRP98nCmvNz",
        "outputId": "922d310f-eac9-4a54-f8c9-f030a41912b5"
      },
      "execution_count": 9,
      "outputs": [
        {
          "output_type": "stream",
          "name": "stdout",
          "text": [
            "Collecting salesforce-lavis\n",
            "  Downloading salesforce_lavis-1.0.2-py3-none-any.whl (1.8 MB)\n",
            "\u001b[?25l     \u001b[90m━━━━━━━━━━━━━━━━━━━━━━━━━━━━━━━━━━━━━━━━\u001b[0m \u001b[32m0.0/1.8 MB\u001b[0m \u001b[31m?\u001b[0m eta \u001b[36m-:--:--\u001b[0m\r\u001b[2K     \u001b[91m━━\u001b[0m\u001b[90m╺\u001b[0m\u001b[90m━━━━━━━━━━━━━━━━━━━━━━━━━━━━━━━━━━━━━\u001b[0m \u001b[32m0.1/1.8 MB\u001b[0m \u001b[31m3.1 MB/s\u001b[0m eta \u001b[36m0:00:01\u001b[0m\r\u001b[2K     \u001b[91m━━━━━━━━━━━━━━━━━━━━━━━━━━━━━━━━━━━━━━━\u001b[0m\u001b[91m╸\u001b[0m \u001b[32m1.8/1.8 MB\u001b[0m \u001b[31m32.1 MB/s\u001b[0m eta \u001b[36m0:00:01\u001b[0m\r\u001b[2K     \u001b[90m━━━━━━━━━━━━━━━━━━━━━━━━━━━━━━━━━━━━━━━━\u001b[0m \u001b[32m1.8/1.8 MB\u001b[0m \u001b[31m25.6 MB/s\u001b[0m eta \u001b[36m0:00:00\u001b[0m\n",
            "\u001b[?25hCollecting contexttimer (from salesforce-lavis)\n",
            "  Downloading contexttimer-0.3.3.tar.gz (4.9 kB)\n",
            "  Preparing metadata (setup.py) ... \u001b[?25l\u001b[?25hdone\n",
            "Collecting decord (from salesforce-lavis)\n",
            "  Downloading decord-0.6.0-py3-none-manylinux2010_x86_64.whl (13.6 MB)\n",
            "\u001b[2K     \u001b[90m━━━━━━━━━━━━━━━━━━━━━━━━━━━━━━━━━━━━━━━━\u001b[0m \u001b[32m13.6/13.6 MB\u001b[0m \u001b[31m69.1 MB/s\u001b[0m eta \u001b[36m0:00:00\u001b[0m\n",
            "\u001b[?25hCollecting einops>=0.4.1 (from salesforce-lavis)\n",
            "  Downloading einops-0.6.1-py3-none-any.whl (42 kB)\n",
            "\u001b[2K     \u001b[90m━━━━━━━━━━━━━━━━━━━━━━━━━━━━━━━━━━━━━━━━\u001b[0m \u001b[32m42.2/42.2 kB\u001b[0m \u001b[31m4.6 MB/s\u001b[0m eta \u001b[36m0:00:00\u001b[0m\n",
            "\u001b[?25hCollecting fairscale==0.4.4 (from salesforce-lavis)\n",
            "  Downloading fairscale-0.4.4.tar.gz (235 kB)\n",
            "\u001b[2K     \u001b[90m━━━━━━━━━━━━━━━━━━━━━━━━━━━━━━━━━━━━━━\u001b[0m \u001b[32m235.4/235.4 kB\u001b[0m \u001b[31m25.2 MB/s\u001b[0m eta \u001b[36m0:00:00\u001b[0m\n",
            "\u001b[?25h  Installing build dependencies ... \u001b[?25l\u001b[?25hdone\n",
            "  Getting requirements to build wheel ... \u001b[?25l\u001b[?25hdone\n",
            "  Installing backend dependencies ... \u001b[?25l\u001b[?25hdone\n",
            "  Preparing metadata (pyproject.toml) ... \u001b[?25l\u001b[?25hdone\n",
            "Requirement already satisfied: ftfy in /usr/local/lib/python3.10/dist-packages (from salesforce-lavis) (6.1.1)\n",
            "Collecting iopath (from salesforce-lavis)\n",
            "  Downloading iopath-0.1.10.tar.gz (42 kB)\n",
            "\u001b[2K     \u001b[90m━━━━━━━━━━━━━━━━━━━━━━━━━━━━━━━━━━━━━━━━\u001b[0m \u001b[32m42.2/42.2 kB\u001b[0m \u001b[31m5.3 MB/s\u001b[0m eta \u001b[36m0:00:00\u001b[0m\n",
            "\u001b[?25h  Preparing metadata (setup.py) ... \u001b[?25l\u001b[?25hdone\n",
            "Requirement already satisfied: ipython in /usr/local/lib/python3.10/dist-packages (from salesforce-lavis) (7.34.0)\n",
            "Collecting omegaconf (from salesforce-lavis)\n",
            "  Downloading omegaconf-2.3.0-py3-none-any.whl (79 kB)\n",
            "\u001b[2K     \u001b[90m━━━━━━━━━━━━━━━━━━━━━━━━━━━━━━━━━━━━━━━━\u001b[0m \u001b[32m79.5/79.5 kB\u001b[0m \u001b[31m7.2 MB/s\u001b[0m eta \u001b[36m0:00:00\u001b[0m\n",
            "\u001b[?25hCollecting opencv-python-headless==4.5.5.64 (from salesforce-lavis)\n",
            "  Downloading opencv_python_headless-4.5.5.64-cp36-abi3-manylinux_2_17_x86_64.manylinux2014_x86_64.whl (47.8 MB)\n",
            "\u001b[2K     \u001b[90m━━━━━━━━━━━━━━━━━━━━━━━━━━━━━━━━━━━━━━━━\u001b[0m \u001b[32m47.8/47.8 MB\u001b[0m \u001b[31m16.1 MB/s\u001b[0m eta \u001b[36m0:00:00\u001b[0m\n",
            "\u001b[?25hCollecting opendatasets (from salesforce-lavis)\n",
            "  Downloading opendatasets-0.1.22-py3-none-any.whl (15 kB)\n",
            "Requirement already satisfied: packaging in /usr/local/lib/python3.10/dist-packages (from salesforce-lavis) (23.1)\n",
            "Requirement already satisfied: pandas in /usr/local/lib/python3.10/dist-packages (from salesforce-lavis) (1.5.3)\n",
            "Requirement already satisfied: plotly in /usr/local/lib/python3.10/dist-packages (from salesforce-lavis) (5.15.0)\n",
            "Collecting pre-commit (from salesforce-lavis)\n",
            "  Downloading pre_commit-3.3.3-py2.py3-none-any.whl (202 kB)\n",
            "\u001b[2K     \u001b[90m━━━━━━━━━━━━━━━━━━━━━━━━━━━━━━━━━━━━━━\u001b[0m \u001b[32m202.8/202.8 kB\u001b[0m \u001b[31m20.1 MB/s\u001b[0m eta \u001b[36m0:00:00\u001b[0m\n",
            "\u001b[?25hCollecting pycocoevalcap (from salesforce-lavis)\n",
            "  Downloading pycocoevalcap-1.2-py3-none-any.whl (104.3 MB)\n",
            "\u001b[2K     \u001b[90m━━━━━━━━━━━━━━━━━━━━━━━━━━━━━━━━━━━━━━━\u001b[0m \u001b[32m104.3/104.3 MB\u001b[0m \u001b[31m8.5 MB/s\u001b[0m eta \u001b[36m0:00:00\u001b[0m\n",
            "\u001b[?25hRequirement already satisfied: pycocotools in /usr/local/lib/python3.10/dist-packages (from salesforce-lavis) (2.0.7)\n",
            "Collecting python-magic (from salesforce-lavis)\n",
            "  Downloading python_magic-0.4.27-py2.py3-none-any.whl (13 kB)\n",
            "Requirement already satisfied: scikit-image in /usr/local/lib/python3.10/dist-packages (from salesforce-lavis) (0.19.3)\n",
            "Collecting sentencepiece (from salesforce-lavis)\n",
            "  Downloading sentencepiece-0.1.99-cp310-cp310-manylinux_2_17_x86_64.manylinux2014_x86_64.whl (1.3 MB)\n",
            "\u001b[2K     \u001b[90m━━━━━━━━━━━━━━━━━━━━━━━━━━━━━━━━━━━━━━━━\u001b[0m \u001b[32m1.3/1.3 MB\u001b[0m \u001b[31m58.2 MB/s\u001b[0m eta \u001b[36m0:00:00\u001b[0m\n",
            "\u001b[?25hRequirement already satisfied: spacy in /usr/local/lib/python3.10/dist-packages (from salesforce-lavis) (3.6.1)\n",
            "Collecting streamlit (from salesforce-lavis)\n",
            "  Downloading streamlit-1.25.0-py2.py3-none-any.whl (8.1 MB)\n",
            "\u001b[2K     \u001b[90m━━━━━━━━━━━━━━━━━━━━━━━━━━━━━━━━━━━━━━━━\u001b[0m \u001b[32m8.1/8.1 MB\u001b[0m \u001b[31m93.2 MB/s\u001b[0m eta \u001b[36m0:00:00\u001b[0m\n",
            "\u001b[?25hCollecting timm==0.4.12 (from salesforce-lavis)\n",
            "  Downloading timm-0.4.12-py3-none-any.whl (376 kB)\n",
            "\u001b[2K     \u001b[90m━━━━━━━━━━━━━━━━━━━━━━━━━━━━━━━━━━━━━━\u001b[0m \u001b[32m377.0/377.0 kB\u001b[0m \u001b[31m37.6 MB/s\u001b[0m eta \u001b[36m0:00:00\u001b[0m\n",
            "\u001b[?25hRequirement already satisfied: torch>=1.10.0 in /usr/local/lib/python3.10/dist-packages (from salesforce-lavis) (2.0.1+cu118)\n",
            "Requirement already satisfied: torchvision in /usr/local/lib/python3.10/dist-packages (from salesforce-lavis) (0.15.2+cu118)\n",
            "Requirement already satisfied: tqdm in /usr/local/lib/python3.10/dist-packages (from salesforce-lavis) (4.66.1)\n",
            "Collecting transformers<4.27,>=4.25.0 (from salesforce-lavis)\n",
            "  Downloading transformers-4.26.1-py3-none-any.whl (6.3 MB)\n",
            "\u001b[2K     \u001b[90m━━━━━━━━━━━━━━━━━━━━━━━━━━━━━━━━━━━━━━━━\u001b[0m \u001b[32m6.3/6.3 MB\u001b[0m \u001b[31m120.0 MB/s\u001b[0m eta \u001b[36m0:00:00\u001b[0m\n",
            "\u001b[?25hCollecting webdataset (from salesforce-lavis)\n",
            "  Downloading webdataset-0.2.48-py3-none-any.whl (51 kB)\n",
            "\u001b[2K     \u001b[90m━━━━━━━━━━━━━━━━━━━━━━━━━━━━━━━━━━━━━━━━\u001b[0m \u001b[32m51.9/51.9 kB\u001b[0m \u001b[31m7.2 MB/s\u001b[0m eta \u001b[36m0:00:00\u001b[0m\n",
            "\u001b[?25hRequirement already satisfied: wheel in /usr/local/lib/python3.10/dist-packages (from salesforce-lavis) (0.41.1)\n",
            "Requirement already satisfied: numpy>=1.21.2 in /usr/local/lib/python3.10/dist-packages (from opencv-python-headless==4.5.5.64->salesforce-lavis) (1.23.5)\n",
            "Requirement already satisfied: filelock in /usr/local/lib/python3.10/dist-packages (from torch>=1.10.0->salesforce-lavis) (3.12.2)\n",
            "Requirement already satisfied: typing-extensions in /usr/local/lib/python3.10/dist-packages (from torch>=1.10.0->salesforce-lavis) (4.7.1)\n",
            "Requirement already satisfied: sympy in /usr/local/lib/python3.10/dist-packages (from torch>=1.10.0->salesforce-lavis) (1.12)\n",
            "Requirement already satisfied: networkx in /usr/local/lib/python3.10/dist-packages (from torch>=1.10.0->salesforce-lavis) (3.1)\n",
            "Requirement already satisfied: jinja2 in /usr/local/lib/python3.10/dist-packages (from torch>=1.10.0->salesforce-lavis) (3.1.2)\n",
            "Requirement already satisfied: triton==2.0.0 in /usr/local/lib/python3.10/dist-packages (from torch>=1.10.0->salesforce-lavis) (2.0.0)\n",
            "Requirement already satisfied: cmake in /usr/local/lib/python3.10/dist-packages (from triton==2.0.0->torch>=1.10.0->salesforce-lavis) (3.27.2)\n",
            "Requirement already satisfied: lit in /usr/local/lib/python3.10/dist-packages (from triton==2.0.0->torch>=1.10.0->salesforce-lavis) (16.0.6)\n",
            "Collecting huggingface-hub<1.0,>=0.11.0 (from transformers<4.27,>=4.25.0->salesforce-lavis)\n",
            "  Downloading huggingface_hub-0.16.4-py3-none-any.whl (268 kB)\n",
            "\u001b[2K     \u001b[90m━━━━━━━━━━━━━━━━━━━━━━━━━━━━━━━━━━━━━━\u001b[0m \u001b[32m268.8/268.8 kB\u001b[0m \u001b[31m30.3 MB/s\u001b[0m eta \u001b[36m0:00:00\u001b[0m\n",
            "\u001b[?25hRequirement already satisfied: pyyaml>=5.1 in /usr/local/lib/python3.10/dist-packages (from transformers<4.27,>=4.25.0->salesforce-lavis) (6.0.1)\n",
            "Requirement already satisfied: regex!=2019.12.17 in /usr/local/lib/python3.10/dist-packages (from transformers<4.27,>=4.25.0->salesforce-lavis) (2023.6.3)\n",
            "Requirement already satisfied: requests in /usr/local/lib/python3.10/dist-packages (from transformers<4.27,>=4.25.0->salesforce-lavis) (2.31.0)\n",
            "Collecting tokenizers!=0.11.3,<0.14,>=0.11.1 (from transformers<4.27,>=4.25.0->salesforce-lavis)\n",
            "  Downloading tokenizers-0.13.3-cp310-cp310-manylinux_2_17_x86_64.manylinux2014_x86_64.whl (7.8 MB)\n",
            "\u001b[2K     \u001b[90m━━━━━━━━━━━━━━━━━━━━━━━━━━━━━━━━━━━━━━━━\u001b[0m \u001b[32m7.8/7.8 MB\u001b[0m \u001b[31m123.8 MB/s\u001b[0m eta \u001b[36m0:00:00\u001b[0m\n",
            "\u001b[?25hRequirement already satisfied: wcwidth>=0.2.5 in /usr/local/lib/python3.10/dist-packages (from ftfy->salesforce-lavis) (0.2.6)\n",
            "Collecting portalocker (from iopath->salesforce-lavis)\n",
            "  Downloading portalocker-2.7.0-py2.py3-none-any.whl (15 kB)\n",
            "Requirement already satisfied: setuptools>=18.5 in /usr/local/lib/python3.10/dist-packages (from ipython->salesforce-lavis) (67.7.2)\n",
            "Collecting jedi>=0.16 (from ipython->salesforce-lavis)\n",
            "  Downloading jedi-0.19.0-py2.py3-none-any.whl (1.6 MB)\n",
            "\u001b[2K     \u001b[90m━━━━━━━━━━━━━━━━━━━━━━━━━━━━━━━━━━━━━━━━\u001b[0m \u001b[32m1.6/1.6 MB\u001b[0m \u001b[31m86.1 MB/s\u001b[0m eta \u001b[36m0:00:00\u001b[0m\n",
            "\u001b[?25hRequirement already satisfied: decorator in /usr/local/lib/python3.10/dist-packages (from ipython->salesforce-lavis) (4.4.2)\n",
            "Requirement already satisfied: pickleshare in /usr/local/lib/python3.10/dist-packages (from ipython->salesforce-lavis) (0.7.5)\n",
            "Requirement already satisfied: traitlets>=4.2 in /usr/local/lib/python3.10/dist-packages (from ipython->salesforce-lavis) (5.7.1)\n",
            "Requirement already satisfied: prompt-toolkit!=3.0.0,!=3.0.1,<3.1.0,>=2.0.0 in /usr/local/lib/python3.10/dist-packages (from ipython->salesforce-lavis) (3.0.39)\n",
            "Requirement already satisfied: pygments in /usr/local/lib/python3.10/dist-packages (from ipython->salesforce-lavis) (2.16.1)\n",
            "Requirement already satisfied: backcall in /usr/local/lib/python3.10/dist-packages (from ipython->salesforce-lavis) (0.2.0)\n",
            "Requirement already satisfied: matplotlib-inline in /usr/local/lib/python3.10/dist-packages (from ipython->salesforce-lavis) (0.1.6)\n",
            "Requirement already satisfied: pexpect>4.3 in /usr/local/lib/python3.10/dist-packages (from ipython->salesforce-lavis) (4.8.0)\n",
            "Collecting antlr4-python3-runtime==4.9.* (from omegaconf->salesforce-lavis)\n",
            "  Downloading antlr4-python3-runtime-4.9.3.tar.gz (117 kB)\n",
            "\u001b[2K     \u001b[90m━━━━━━━━━━━━━━━━━━━━━━━━━━━━━━━━━━━━━━\u001b[0m \u001b[32m117.0/117.0 kB\u001b[0m \u001b[31m16.1 MB/s\u001b[0m eta \u001b[36m0:00:00\u001b[0m\n",
            "\u001b[?25h  Preparing metadata (setup.py) ... \u001b[?25l\u001b[?25hdone\n",
            "Requirement already satisfied: kaggle in /usr/local/lib/python3.10/dist-packages (from opendatasets->salesforce-lavis) (1.5.16)\n",
            "Requirement already satisfied: click in /usr/local/lib/python3.10/dist-packages (from opendatasets->salesforce-lavis) (8.1.7)\n",
            "Requirement already satisfied: python-dateutil>=2.8.1 in /usr/local/lib/python3.10/dist-packages (from pandas->salesforce-lavis) (2.8.2)\n",
            "Requirement already satisfied: pytz>=2020.1 in /usr/local/lib/python3.10/dist-packages (from pandas->salesforce-lavis) (2023.3)\n",
            "Requirement already satisfied: tenacity>=6.2.0 in /usr/local/lib/python3.10/dist-packages (from plotly->salesforce-lavis) (8.2.3)\n",
            "Collecting cfgv>=2.0.0 (from pre-commit->salesforce-lavis)\n",
            "  Downloading cfgv-3.4.0-py2.py3-none-any.whl (7.2 kB)\n",
            "Collecting identify>=1.0.0 (from pre-commit->salesforce-lavis)\n",
            "  Downloading identify-2.5.27-py2.py3-none-any.whl (98 kB)\n",
            "\u001b[2K     \u001b[90m━━━━━━━━━━━━━━━━━━━━━━━━━━━━━━━━━━━━━━━━\u001b[0m \u001b[32m98.8/98.8 kB\u001b[0m \u001b[31m13.5 MB/s\u001b[0m eta \u001b[36m0:00:00\u001b[0m\n",
            "\u001b[?25hCollecting nodeenv>=0.11.1 (from pre-commit->salesforce-lavis)\n",
            "  Downloading nodeenv-1.8.0-py2.py3-none-any.whl (22 kB)\n",
            "Collecting virtualenv>=20.10.0 (from pre-commit->salesforce-lavis)\n",
            "  Downloading virtualenv-20.24.3-py3-none-any.whl (3.0 MB)\n",
            "\u001b[2K     \u001b[90m━━━━━━━━━━━━━━━━━━━━━━━━━━━━━━━━━━━━━━━━\u001b[0m \u001b[32m3.0/3.0 MB\u001b[0m \u001b[31m102.4 MB/s\u001b[0m eta \u001b[36m0:00:00\u001b[0m\n",
            "\u001b[?25hRequirement already satisfied: matplotlib>=2.1.0 in /usr/local/lib/python3.10/dist-packages (from pycocotools->salesforce-lavis) (3.7.1)\n",
            "Requirement already satisfied: scipy>=1.4.1 in /usr/local/lib/python3.10/dist-packages (from scikit-image->salesforce-lavis) (1.10.1)\n",
            "Requirement already satisfied: pillow!=7.1.0,!=7.1.1,!=8.3.0,>=6.1.0 in /usr/local/lib/python3.10/dist-packages (from scikit-image->salesforce-lavis) (9.4.0)\n",
            "Requirement already satisfied: imageio>=2.4.1 in /usr/local/lib/python3.10/dist-packages (from scikit-image->salesforce-lavis) (2.31.1)\n",
            "Requirement already satisfied: tifffile>=2019.7.26 in /usr/local/lib/python3.10/dist-packages (from scikit-image->salesforce-lavis) (2023.8.12)\n",
            "Requirement already satisfied: PyWavelets>=1.1.1 in /usr/local/lib/python3.10/dist-packages (from scikit-image->salesforce-lavis) (1.4.1)\n",
            "Requirement already satisfied: spacy-legacy<3.1.0,>=3.0.11 in /usr/local/lib/python3.10/dist-packages (from spacy->salesforce-lavis) (3.0.12)\n",
            "Requirement already satisfied: spacy-loggers<2.0.0,>=1.0.0 in /usr/local/lib/python3.10/dist-packages (from spacy->salesforce-lavis) (1.0.4)\n",
            "Requirement already satisfied: murmurhash<1.1.0,>=0.28.0 in /usr/local/lib/python3.10/dist-packages (from spacy->salesforce-lavis) (1.0.9)\n",
            "Requirement already satisfied: cymem<2.1.0,>=2.0.2 in /usr/local/lib/python3.10/dist-packages (from spacy->salesforce-lavis) (2.0.7)\n",
            "Requirement already satisfied: preshed<3.1.0,>=3.0.2 in /usr/local/lib/python3.10/dist-packages (from spacy->salesforce-lavis) (3.0.8)\n",
            "Requirement already satisfied: thinc<8.2.0,>=8.1.8 in /usr/local/lib/python3.10/dist-packages (from spacy->salesforce-lavis) (8.1.12)\n",
            "Requirement already satisfied: wasabi<1.2.0,>=0.9.1 in /usr/local/lib/python3.10/dist-packages (from spacy->salesforce-lavis) (1.1.2)\n",
            "Requirement already satisfied: srsly<3.0.0,>=2.4.3 in /usr/local/lib/python3.10/dist-packages (from spacy->salesforce-lavis) (2.4.7)\n",
            "Requirement already satisfied: catalogue<2.1.0,>=2.0.6 in /usr/local/lib/python3.10/dist-packages (from spacy->salesforce-lavis) (2.0.9)\n",
            "Requirement already satisfied: typer<0.10.0,>=0.3.0 in /usr/local/lib/python3.10/dist-packages (from spacy->salesforce-lavis) (0.9.0)\n",
            "Requirement already satisfied: pathy>=0.10.0 in /usr/local/lib/python3.10/dist-packages (from spacy->salesforce-lavis) (0.10.2)\n",
            "Requirement already satisfied: smart-open<7.0.0,>=5.2.1 in /usr/local/lib/python3.10/dist-packages (from spacy->salesforce-lavis) (6.3.0)\n",
            "Requirement already satisfied: pydantic!=1.8,!=1.8.1,<3.0.0,>=1.7.4 in /usr/local/lib/python3.10/dist-packages (from spacy->salesforce-lavis) (2.2.0)\n",
            "Requirement already satisfied: langcodes<4.0.0,>=3.2.0 in /usr/local/lib/python3.10/dist-packages (from spacy->salesforce-lavis) (3.3.0)\n",
            "Requirement already satisfied: altair<6,>=4.0 in /usr/local/lib/python3.10/dist-packages (from streamlit->salesforce-lavis) (4.2.2)\n",
            "Requirement already satisfied: blinker<2,>=1.0.0 in /usr/lib/python3/dist-packages (from streamlit->salesforce-lavis) (1.4)\n",
            "Requirement already satisfied: cachetools<6,>=4.0 in /usr/local/lib/python3.10/dist-packages (from streamlit->salesforce-lavis) (5.3.1)\n",
            "Requirement already satisfied: importlib-metadata<7,>=1.4 in /usr/local/lib/python3.10/dist-packages (from streamlit->salesforce-lavis) (6.8.0)\n",
            "Requirement already satisfied: protobuf<5,>=3.20 in /usr/local/lib/python3.10/dist-packages (from streamlit->salesforce-lavis) (3.20.3)\n",
            "Requirement already satisfied: pyarrow>=6.0 in /usr/local/lib/python3.10/dist-packages (from streamlit->salesforce-lavis) (9.0.0)\n",
            "Collecting pympler<2,>=0.9 (from streamlit->salesforce-lavis)\n",
            "  Downloading Pympler-1.0.1-py3-none-any.whl (164 kB)\n",
            "\u001b[2K     \u001b[90m━━━━━━━━━━━━━━━━━━━━━━━━━━━━━━━━━━━━━━\u001b[0m \u001b[32m164.8/164.8 kB\u001b[0m \u001b[31m22.7 MB/s\u001b[0m eta \u001b[36m0:00:00\u001b[0m\n",
            "\u001b[?25hRequirement already satisfied: rich<14,>=10.14.0 in /usr/local/lib/python3.10/dist-packages (from streamlit->salesforce-lavis) (13.5.2)\n",
            "Requirement already satisfied: toml<2,>=0.10.1 in /usr/local/lib/python3.10/dist-packages (from streamlit->salesforce-lavis) (0.10.2)\n",
            "Collecting tzlocal<5,>=1.1 (from streamlit->salesforce-lavis)\n",
            "  Downloading tzlocal-4.3.1-py3-none-any.whl (20 kB)\n",
            "Collecting validators<1,>=0.2 (from streamlit->salesforce-lavis)\n",
            "  Downloading validators-0.21.2-py3-none-any.whl (25 kB)\n",
            "Requirement already satisfied: gitpython!=3.1.19,<4,>=3.0.7 in /usr/local/lib/python3.10/dist-packages (from streamlit->salesforce-lavis) (3.1.32)\n",
            "Collecting pydeck<1,>=0.8 (from streamlit->salesforce-lavis)\n",
            "  Downloading pydeck-0.8.0-py2.py3-none-any.whl (4.7 MB)\n",
            "\u001b[2K     \u001b[90m━━━━━━━━━━━━━━━━━━━━━━━━━━━━━━━━━━━━━━━━\u001b[0m \u001b[32m4.7/4.7 MB\u001b[0m \u001b[31m114.4 MB/s\u001b[0m eta \u001b[36m0:00:00\u001b[0m\n",
            "\u001b[?25hRequirement already satisfied: tornado<7,>=6.0.3 in /usr/local/lib/python3.10/dist-packages (from streamlit->salesforce-lavis) (6.3.2)\n",
            "Collecting watchdog>=2.1.5 (from streamlit->salesforce-lavis)\n",
            "  Downloading watchdog-3.0.0-py3-none-manylinux2014_x86_64.whl (82 kB)\n",
            "\u001b[2K     \u001b[90m━━━━━━━━━━━━━━━━━━━━━━━━━━━━━━━━━━━━━━━━\u001b[0m \u001b[32m82.1/82.1 kB\u001b[0m \u001b[31m11.3 MB/s\u001b[0m eta \u001b[36m0:00:00\u001b[0m\n",
            "\u001b[?25hCollecting braceexpand (from webdataset->salesforce-lavis)\n",
            "  Downloading braceexpand-0.1.7-py2.py3-none-any.whl (5.9 kB)\n",
            "Requirement already satisfied: entrypoints in /usr/local/lib/python3.10/dist-packages (from altair<6,>=4.0->streamlit->salesforce-lavis) (0.4)\n",
            "Requirement already satisfied: jsonschema>=3.0 in /usr/local/lib/python3.10/dist-packages (from altair<6,>=4.0->streamlit->salesforce-lavis) (4.19.0)\n",
            "Requirement already satisfied: toolz in /usr/local/lib/python3.10/dist-packages (from altair<6,>=4.0->streamlit->salesforce-lavis) (0.12.0)\n",
            "Requirement already satisfied: gitdb<5,>=4.0.1 in /usr/local/lib/python3.10/dist-packages (from gitpython!=3.1.19,<4,>=3.0.7->streamlit->salesforce-lavis) (4.0.10)\n",
            "Requirement already satisfied: fsspec in /usr/local/lib/python3.10/dist-packages (from huggingface-hub<1.0,>=0.11.0->transformers<4.27,>=4.25.0->salesforce-lavis) (2023.6.0)\n",
            "Requirement already satisfied: zipp>=0.5 in /usr/local/lib/python3.10/dist-packages (from importlib-metadata<7,>=1.4->streamlit->salesforce-lavis) (3.16.2)\n",
            "Requirement already satisfied: parso<0.9.0,>=0.8.3 in /usr/local/lib/python3.10/dist-packages (from jedi>=0.16->ipython->salesforce-lavis) (0.8.3)\n",
            "Requirement already satisfied: contourpy>=1.0.1 in /usr/local/lib/python3.10/dist-packages (from matplotlib>=2.1.0->pycocotools->salesforce-lavis) (1.1.0)\n",
            "Requirement already satisfied: cycler>=0.10 in /usr/local/lib/python3.10/dist-packages (from matplotlib>=2.1.0->pycocotools->salesforce-lavis) (0.11.0)\n",
            "Requirement already satisfied: fonttools>=4.22.0 in /usr/local/lib/python3.10/dist-packages (from matplotlib>=2.1.0->pycocotools->salesforce-lavis) (4.42.0)\n",
            "Requirement already satisfied: kiwisolver>=1.0.1 in /usr/local/lib/python3.10/dist-packages (from matplotlib>=2.1.0->pycocotools->salesforce-lavis) (1.4.4)\n",
            "Requirement already satisfied: pyparsing>=2.3.1 in /usr/local/lib/python3.10/dist-packages (from matplotlib>=2.1.0->pycocotools->salesforce-lavis) (3.1.1)\n",
            "Requirement already satisfied: ptyprocess>=0.5 in /usr/local/lib/python3.10/dist-packages (from pexpect>4.3->ipython->salesforce-lavis) (0.7.0)\n",
            "Requirement already satisfied: annotated-types>=0.4.0 in /usr/local/lib/python3.10/dist-packages (from pydantic!=1.8,!=1.8.1,<3.0.0,>=1.7.4->spacy->salesforce-lavis) (0.5.0)\n",
            "Requirement already satisfied: pydantic-core==2.6.0 in /usr/local/lib/python3.10/dist-packages (from pydantic!=1.8,!=1.8.1,<3.0.0,>=1.7.4->spacy->salesforce-lavis) (2.6.0)\n",
            "Requirement already satisfied: MarkupSafe>=2.0 in /usr/local/lib/python3.10/dist-packages (from jinja2->torch>=1.10.0->salesforce-lavis) (2.1.3)\n",
            "Requirement already satisfied: six>=1.5 in /usr/local/lib/python3.10/dist-packages (from python-dateutil>=2.8.1->pandas->salesforce-lavis) (1.16.0)\n",
            "Requirement already satisfied: charset-normalizer<4,>=2 in /usr/local/lib/python3.10/dist-packages (from requests->transformers<4.27,>=4.25.0->salesforce-lavis) (3.2.0)\n",
            "Requirement already satisfied: idna<4,>=2.5 in /usr/local/lib/python3.10/dist-packages (from requests->transformers<4.27,>=4.25.0->salesforce-lavis) (3.4)\n",
            "Requirement already satisfied: urllib3<3,>=1.21.1 in /usr/local/lib/python3.10/dist-packages (from requests->transformers<4.27,>=4.25.0->salesforce-lavis) (2.0.4)\n",
            "Requirement already satisfied: certifi>=2017.4.17 in /usr/local/lib/python3.10/dist-packages (from requests->transformers<4.27,>=4.25.0->salesforce-lavis) (2023.7.22)\n",
            "Requirement already satisfied: markdown-it-py>=2.2.0 in /usr/local/lib/python3.10/dist-packages (from rich<14,>=10.14.0->streamlit->salesforce-lavis) (3.0.0)\n",
            "Requirement already satisfied: blis<0.8.0,>=0.7.8 in /usr/local/lib/python3.10/dist-packages (from thinc<8.2.0,>=8.1.8->spacy->salesforce-lavis) (0.7.10)\n",
            "Requirement already satisfied: confection<1.0.0,>=0.0.1 in /usr/local/lib/python3.10/dist-packages (from thinc<8.2.0,>=8.1.8->spacy->salesforce-lavis) (0.1.1)\n",
            "Collecting pytz-deprecation-shim (from tzlocal<5,>=1.1->streamlit->salesforce-lavis)\n",
            "  Downloading pytz_deprecation_shim-0.1.0.post0-py2.py3-none-any.whl (15 kB)\n",
            "Collecting distlib<1,>=0.3.7 (from virtualenv>=20.10.0->pre-commit->salesforce-lavis)\n",
            "  Downloading distlib-0.3.7-py2.py3-none-any.whl (468 kB)\n",
            "\u001b[2K     \u001b[90m━━━━━━━━━━━━━━━━━━━━━━━━━━━━━━━━━━━━━━\u001b[0m \u001b[32m468.9/468.9 kB\u001b[0m \u001b[31m47.0 MB/s\u001b[0m eta \u001b[36m0:00:00\u001b[0m\n",
            "\u001b[?25hRequirement already satisfied: platformdirs<4,>=3.9.1 in /usr/local/lib/python3.10/dist-packages (from virtualenv>=20.10.0->pre-commit->salesforce-lavis) (3.10.0)\n",
            "Requirement already satisfied: python-slugify in /usr/local/lib/python3.10/dist-packages (from kaggle->opendatasets->salesforce-lavis) (8.0.1)\n",
            "Requirement already satisfied: bleach in /usr/local/lib/python3.10/dist-packages (from kaggle->opendatasets->salesforce-lavis) (6.0.0)\n",
            "Requirement already satisfied: mpmath>=0.19 in /usr/local/lib/python3.10/dist-packages (from sympy->torch>=1.10.0->salesforce-lavis) (1.3.0)\n",
            "Requirement already satisfied: smmap<6,>=3.0.1 in /usr/local/lib/python3.10/dist-packages (from gitdb<5,>=4.0.1->gitpython!=3.1.19,<4,>=3.0.7->streamlit->salesforce-lavis) (5.0.0)\n",
            "Requirement already satisfied: attrs>=22.2.0 in /usr/local/lib/python3.10/dist-packages (from jsonschema>=3.0->altair<6,>=4.0->streamlit->salesforce-lavis) (23.1.0)\n",
            "Requirement already satisfied: jsonschema-specifications>=2023.03.6 in /usr/local/lib/python3.10/dist-packages (from jsonschema>=3.0->altair<6,>=4.0->streamlit->salesforce-lavis) (2023.7.1)\n",
            "Requirement already satisfied: referencing>=0.28.4 in /usr/local/lib/python3.10/dist-packages (from jsonschema>=3.0->altair<6,>=4.0->streamlit->salesforce-lavis) (0.30.2)\n",
            "Requirement already satisfied: rpds-py>=0.7.1 in /usr/local/lib/python3.10/dist-packages (from jsonschema>=3.0->altair<6,>=4.0->streamlit->salesforce-lavis) (0.9.2)\n",
            "Requirement already satisfied: mdurl~=0.1 in /usr/local/lib/python3.10/dist-packages (from markdown-it-py>=2.2.0->rich<14,>=10.14.0->streamlit->salesforce-lavis) (0.1.2)\n",
            "Requirement already satisfied: webencodings in /usr/local/lib/python3.10/dist-packages (from bleach->kaggle->opendatasets->salesforce-lavis) (0.5.1)\n",
            "Requirement already satisfied: text-unidecode>=1.3 in /usr/local/lib/python3.10/dist-packages (from python-slugify->kaggle->opendatasets->salesforce-lavis) (1.3)\n",
            "Collecting tzdata (from pytz-deprecation-shim->tzlocal<5,>=1.1->streamlit->salesforce-lavis)\n",
            "  Downloading tzdata-2023.3-py2.py3-none-any.whl (341 kB)\n",
            "\u001b[2K     \u001b[90m━━━━━━━━━━━━━━━━━━━━━━━━━━━━━━━━━━━━━━\u001b[0m \u001b[32m341.8/341.8 kB\u001b[0m \u001b[31m38.4 MB/s\u001b[0m eta \u001b[36m0:00:00\u001b[0m\n",
            "\u001b[?25hBuilding wheels for collected packages: fairscale, contexttimer, iopath, antlr4-python3-runtime\n",
            "  Building wheel for fairscale (pyproject.toml) ... \u001b[?25l\u001b[?25hdone\n",
            "  Created wheel for fairscale: filename=fairscale-0.4.4-py3-none-any.whl size=292830 sha256=c144be60ec50e35d176b54751d4b37895cda5aa9fad657bf0263721e504b0f26\n",
            "  Stored in directory: /root/.cache/pip/wheels/08/58/6f/56c57fa8315eb0bcf0287b580c850845be5f116359b809e9f1\n",
            "  Building wheel for contexttimer (setup.py) ... \u001b[?25l\u001b[?25hdone\n",
            "  Created wheel for contexttimer: filename=contexttimer-0.3.3-py3-none-any.whl size=5803 sha256=e9513d6fa69dedb2da7f3dad2e9d75133c67e08b8f46d4d1afedeecb30a19501\n",
            "  Stored in directory: /root/.cache/pip/wheels/72/1c/da/cfd97201d88ccce214427fa84a5caeb91fef7c5a1b4c4312b4\n",
            "  Building wheel for iopath (setup.py) ... \u001b[?25l\u001b[?25hdone\n",
            "  Created wheel for iopath: filename=iopath-0.1.10-py3-none-any.whl size=31530 sha256=9ecd8e7a98602cf3f0070549f910efe376433f030ead378b2e5212670ce86e09\n",
            "  Stored in directory: /root/.cache/pip/wheels/9a/a3/b6/ac0fcd1b4ed5cfeb3db92e6a0e476cfd48ed0df92b91080c1d\n",
            "  Building wheel for antlr4-python3-runtime (setup.py) ... \u001b[?25l\u001b[?25hdone\n",
            "  Created wheel for antlr4-python3-runtime: filename=antlr4_python3_runtime-4.9.3-py3-none-any.whl size=144555 sha256=5fbb7ff32223e2600daefae5e469fdb5453251cdbe28d31986465311d82f99dc\n",
            "  Stored in directory: /root/.cache/pip/wheels/12/93/dd/1f6a127edc45659556564c5730f6d4e300888f4bca2d4c5a88\n",
            "Successfully built fairscale contexttimer iopath antlr4-python3-runtime\n",
            "Installing collected packages: tokenizers, sentencepiece, distlib, contexttimer, braceexpand, antlr4-python3-runtime, webdataset, watchdog, virtualenv, validators, tzdata, python-magic, pympler, portalocker, opencv-python-headless, omegaconf, nodeenv, jedi, identify, einops, decord, cfgv, pytz-deprecation-shim, pydeck, pre-commit, iopath, huggingface-hub, tzlocal, transformers, opendatasets, pycocoevalcap, streamlit, timm, fairscale, salesforce-lavis\n",
            "  Attempting uninstall: opencv-python-headless\n",
            "    Found existing installation: opencv-python-headless 4.8.0.76\n",
            "    Uninstalling opencv-python-headless-4.8.0.76:\n",
            "      Successfully uninstalled opencv-python-headless-4.8.0.76\n",
            "  Attempting uninstall: tzlocal\n",
            "    Found existing installation: tzlocal 5.0.1\n",
            "    Uninstalling tzlocal-5.0.1:\n",
            "      Successfully uninstalled tzlocal-5.0.1\n",
            "Successfully installed antlr4-python3-runtime-4.9.3 braceexpand-0.1.7 cfgv-3.4.0 contexttimer-0.3.3 decord-0.6.0 distlib-0.3.7 einops-0.6.1 fairscale-0.4.4 huggingface-hub-0.16.4 identify-2.5.27 iopath-0.1.10 jedi-0.19.0 nodeenv-1.8.0 omegaconf-2.3.0 opencv-python-headless-4.5.5.64 opendatasets-0.1.22 portalocker-2.7.0 pre-commit-3.3.3 pycocoevalcap-1.2 pydeck-0.8.0 pympler-1.0.1 python-magic-0.4.27 pytz-deprecation-shim-0.1.0.post0 salesforce-lavis-1.0.2 sentencepiece-0.1.99 streamlit-1.25.0 timm-0.4.12 tokenizers-0.13.3 transformers-4.26.1 tzdata-2023.3 tzlocal-4.3.1 validators-0.21.2 virtualenv-20.24.3 watchdog-3.0.0 webdataset-0.2.48\n"
          ]
        },
        {
          "output_type": "display_data",
          "data": {
            "application/vnd.colab-display-data+json": {
              "pip_warning": {
                "packages": [
                  "cv2",
                  "pydevd_plugins"
                ]
              }
            }
          },
          "metadata": {}
        }
      ]
    },
    {
      "cell_type": "code",
      "source": [
        "import clip\n",
        "import json\n",
        "import cv2\n",
        "\n",
        "import torch\n",
        "import torchvision\n",
        "from torch.utils.data import Dataset, DataLoader\n",
        "from torch import nn\n",
        "import torch.nn.functional as F\n",
        "\n",
        "import numpy as np\n",
        "import pandas\n",
        "from PIL import Image, ImageDraw\n",
        "import matplotlib.pyplot as plt\n",
        "\n",
        "import lavis\n",
        "from lavis.common.gradcam import getAttMap\n",
        "from lavis.models.blip_models.blip_image_text_matching import compute_gradcam\n",
        "import locale\n",
        "\n",
        "# from typing import Sequence, Union\n",
        "\n",
        "locale.getpreferredencoding = lambda: 'UTF-8'"
      ],
      "metadata": {
        "id": "Vm3M1bUSnF03"
      },
      "execution_count": 10,
      "outputs": []
    },
    {
      "cell_type": "code",
      "source": [
        "blip_im_text_match, image_preprocess_im_text_match, text_preprocess_im_text_match = lavis.models.load_model_and_preprocess(\n",
        "    name=\"blip_image_text_matching\", model_type=\"large\", is_eval=True, device='cuda'\n",
        "  )\n",
        "\n",
        "modelCLIP, preprocessCLIP = clip.load(\"RN50\", device='cuda')"
      ],
      "metadata": {
        "colab": {
          "base_uri": "https://localhost:8080/",
          "height": 130,
          "referenced_widgets": [
            "28ff59d935a64fffb46bedc9fb0ecdab",
            "53fb66ea10fa4bdcb77f7d6d1c21916d",
            "0758070d52994277aa3979b9c8259f05",
            "b840f7f98de74b8dbd56cca6b8e87a5f",
            "15b5b1e2814742e089bfcac8dc57fb7f",
            "b6dd977477fc4b56b3982a77e48711d5",
            "c737ee6b7d7a4653981d5ed472e411db",
            "dee2bfe7be4a47e98b6f57583c3f2461",
            "a834aa7c701d47e781841254bcf2151b",
            "0447bd1511f542b2b805a7549f79a478",
            "84e929d37ea8442a9b6f33cf17895403",
            "87ded747830a4820b78694996058313b",
            "c37b88140a4d4618b1f3d76158d7aad3",
            "c42aff48beea460d904fe1a99ac5bf76",
            "55d9663f0de8422882f2e839fbb4077c",
            "67c48fd71c8c44808ea2a924e3cc11a4",
            "0fae0d0644b64706889283b43acdfdbf",
            "9501f95055244bc19ec3a38413b905ad",
            "a163d4026f064207a7879121a575d31c",
            "42a29f24f992479c9da200ad8aae3e5e",
            "98fc6a2d14234c89a677912380853752",
            "a50d3c41f5594f8a8f38cb063b85b847",
            "31dc027867d94976905433edb6656eab",
            "e412c92466fd46fd8a6c8ccd7e6b34fd",
            "f18ed0aba09a4c468fb0875d0433113f",
            "503047e1ebc049e0b342d3af56212d80",
            "ddac1a10d9a2497db34a18418cb45f2a",
            "2e6120834ee840e3a3adcbe02d031c0e",
            "e452fcd7b9714f11b019591c154dc85e",
            "1baca07341274c42a3d8db9f49e8fe18",
            "0d83f51ef42047fb97f9f9d95f8fe854",
            "f04b5e203a48457397d656acde1780dc",
            "39b26f27bc9f4c9480d6c4895c4d5eec"
          ]
        },
        "id": "VyLbZDaKnYg_",
        "outputId": "dffaafb5-c91f-4514-807a-66bf8a69a5a9"
      },
      "execution_count": 11,
      "outputs": [
        {
          "output_type": "display_data",
          "data": {
            "text/plain": [
              "Downloading (…)solve/main/vocab.txt:   0%|          | 0.00/232k [00:00<?, ?B/s]"
            ],
            "application/vnd.jupyter.widget-view+json": {
              "version_major": 2,
              "version_minor": 0,
              "model_id": "28ff59d935a64fffb46bedc9fb0ecdab"
            }
          },
          "metadata": {}
        },
        {
          "output_type": "display_data",
          "data": {
            "text/plain": [
              "Downloading (…)okenizer_config.json:   0%|          | 0.00/28.0 [00:00<?, ?B/s]"
            ],
            "application/vnd.jupyter.widget-view+json": {
              "version_major": 2,
              "version_minor": 0,
              "model_id": "87ded747830a4820b78694996058313b"
            }
          },
          "metadata": {}
        },
        {
          "output_type": "display_data",
          "data": {
            "text/plain": [
              "Downloading (…)lve/main/config.json:   0%|          | 0.00/570 [00:00<?, ?B/s]"
            ],
            "application/vnd.jupyter.widget-view+json": {
              "version_major": 2,
              "version_minor": 0,
              "model_id": "31dc027867d94976905433edb6656eab"
            }
          },
          "metadata": {}
        },
        {
          "output_type": "stream",
          "name": "stderr",
          "text": [
            "100%|██████████| 3.43G/3.43G [03:04<00:00, 20.0MB/s]\n"
          ]
        }
      ]
    },
    {
      "cell_type": "code",
      "source": [
        "# SAM\n",
        "import sys\n",
        "!{sys.executable} -m pip install opencv-python matplotlib\n",
        "!{sys.executable} -m pip install 'git+https://github.com/facebookresearch/segment-anything.git'\n",
        "\n",
        "!wget https://dl.fbaipublicfiles.com/segment_anything/sam_vit_h_4b8939.pth"
      ],
      "metadata": {
        "colab": {
          "base_uri": "https://localhost:8080/"
        },
        "id": "bAzmp7JRndbn",
        "outputId": "652bcd8a-8e10-4330-ffaf-461a00894d90"
      },
      "execution_count": 12,
      "outputs": [
        {
          "output_type": "stream",
          "name": "stdout",
          "text": [
            "Requirement already satisfied: opencv-python in /usr/local/lib/python3.10/dist-packages (4.8.0.76)\n",
            "Requirement already satisfied: matplotlib in /usr/local/lib/python3.10/dist-packages (3.7.1)\n",
            "Requirement already satisfied: numpy>=1.21.2 in /usr/local/lib/python3.10/dist-packages (from opencv-python) (1.23.5)\n",
            "Requirement already satisfied: contourpy>=1.0.1 in /usr/local/lib/python3.10/dist-packages (from matplotlib) (1.1.0)\n",
            "Requirement already satisfied: cycler>=0.10 in /usr/local/lib/python3.10/dist-packages (from matplotlib) (0.11.0)\n",
            "Requirement already satisfied: fonttools>=4.22.0 in /usr/local/lib/python3.10/dist-packages (from matplotlib) (4.42.0)\n",
            "Requirement already satisfied: kiwisolver>=1.0.1 in /usr/local/lib/python3.10/dist-packages (from matplotlib) (1.4.4)\n",
            "Requirement already satisfied: packaging>=20.0 in /usr/local/lib/python3.10/dist-packages (from matplotlib) (23.1)\n",
            "Requirement already satisfied: pillow>=6.2.0 in /usr/local/lib/python3.10/dist-packages (from matplotlib) (9.4.0)\n",
            "Requirement already satisfied: pyparsing>=2.3.1 in /usr/local/lib/python3.10/dist-packages (from matplotlib) (3.1.1)\n",
            "Requirement already satisfied: python-dateutil>=2.7 in /usr/local/lib/python3.10/dist-packages (from matplotlib) (2.8.2)\n",
            "Requirement already satisfied: six>=1.5 in /usr/local/lib/python3.10/dist-packages (from python-dateutil>=2.7->matplotlib) (1.16.0)\n",
            "Collecting git+https://github.com/facebookresearch/segment-anything.git\n",
            "  Cloning https://github.com/facebookresearch/segment-anything.git to /tmp/pip-req-build-nzekaray\n",
            "  Running command git clone --filter=blob:none --quiet https://github.com/facebookresearch/segment-anything.git /tmp/pip-req-build-nzekaray\n",
            "  Resolved https://github.com/facebookresearch/segment-anything.git to commit 6fdee8f2727f4506cfbbe553e23b895e27956588\n",
            "  Preparing metadata (setup.py) ... \u001b[?25l\u001b[?25hdone\n",
            "Building wheels for collected packages: segment-anything\n",
            "  Building wheel for segment-anything (setup.py) ... \u001b[?25l\u001b[?25hdone\n",
            "  Created wheel for segment-anything: filename=segment_anything-1.0-py3-none-any.whl size=36586 sha256=b2d9b944b1176d6e764ed292da535ee8889e9cc6769d1e4fe5fac702685d7cd4\n",
            "  Stored in directory: /tmp/pip-ephem-wheel-cache-t70lson2/wheels/10/cf/59/9ccb2f0a1bcc81d4fbd0e501680b5d088d690c6cfbc02dc99d\n",
            "Successfully built segment-anything\n",
            "Installing collected packages: segment-anything\n",
            "Successfully installed segment-anything-1.0\n",
            "--2023-08-24 09:28:44--  https://dl.fbaipublicfiles.com/segment_anything/sam_vit_h_4b8939.pth\n",
            "Resolving dl.fbaipublicfiles.com (dl.fbaipublicfiles.com)... 13.33.88.93, 13.33.88.16, 13.33.88.98, ...\n",
            "Connecting to dl.fbaipublicfiles.com (dl.fbaipublicfiles.com)|13.33.88.93|:443... connected.\n",
            "HTTP request sent, awaiting response... 200 OK\n",
            "Length: 2564550879 (2.4G) [binary/octet-stream]\n",
            "Saving to: ‘sam_vit_h_4b8939.pth’\n",
            "\n",
            "sam_vit_h_4b8939.pt 100%[===================>]   2.39G   198MB/s    in 10s     \n",
            "\n",
            "2023-08-24 09:28:54 (236 MB/s) - ‘sam_vit_h_4b8939.pth’ saved [2564550879/2564550879]\n",
            "\n"
          ]
        }
      ]
    },
    {
      "cell_type": "code",
      "source": [
        "from segment_anything import sam_model_registry, SamPredictor\n",
        "\n",
        "sys.path.append(\"..\")\n",
        "\n",
        "sam_checkpoint = \"sam_vit_h_4b8939.pth\"\n",
        "model_type = \"vit_h\"\n",
        "\n",
        "device = \"cuda\"\n",
        "\n",
        "sam = sam_model_registry[model_type](checkpoint=sam_checkpoint)\n",
        "sam.to(device=device)\n",
        "\n",
        "predictor = SamPredictor(sam)\n"
      ],
      "metadata": {
        "id": "DBaLviy8ni3A"
      },
      "execution_count": 13,
      "outputs": []
    },
    {
      "cell_type": "markdown",
      "source": [
        "### Functions"
      ],
      "metadata": {
        "id": "4_oTeNb-j5t0"
      }
    },
    {
      "cell_type": "code",
      "source": [
        "def center_da_gradcam(\n",
        "  gradcam, image: Image, text_tokens: torch.Tensor = None, average: bool = True, visualize=False\n",
        "):\n",
        "\n",
        "  image_norm = np.float32(image) / 255\n",
        "  center = [0, 0]\n",
        "\n",
        "  if average:\n",
        "    gradcam = getAttMap(image_norm, gradcam[0][1], blur=True)\n",
        "    colour_map = gradcam - image_norm\n",
        "\n",
        "    if visualize==True:\n",
        "      h, w, c = colour_map.shape\n",
        "\n",
        "      # PRINT COLOUR MAP\n",
        "      fig, ax = plt.subplots(1, 1, figsize=(10, 10))\n",
        "      plt.title('COLOUR MAP')\n",
        "      ax.imshow(gradcam)\n",
        "      # ax.imshow(colour_map)\n",
        "      ax.axis('off')\n",
        "      fig.tight_layout()\n",
        "\n",
        "      # PRINT RED CHANNEL\n",
        "      red_channel = np.zeros((h, w, 1))\n",
        "      for i in range(colour_map.shape[0]):\n",
        "        for j in range(colour_map.shape[1]):\n",
        "          if (colour_map[i][j][0] > 0.2 and colour_map[i][j][1] < 0.2 and colour_map[i][j][2] < 0.2):\n",
        "            red_channel[i][j][0] = 1\n",
        "\n",
        "      fig, ax = plt.subplots(1, 1, figsize=(10, 10))\n",
        "      plt.title('RED CHANNEL')\n",
        "      ax.imshow(red_channel)\n",
        "      ax.axis('off')\n",
        "      fig.tight_layout()\n",
        "\n",
        "    # CALCULATE THE BBOX\n",
        "    xs = []\n",
        "    ys = []\n",
        "\n",
        "    for i in range(colour_map.shape[0]):\n",
        "      for j in range(colour_map.shape[1]):\n",
        "        if (colour_map[i][j][0] > 0.2 and colour_map[i][j][1] < 0.2 and colour_map[i][j][2] < 0.2):\n",
        "          xs.append(i)\n",
        "          ys.append(j)\n",
        "\n",
        "    if len(xs)!=0:\n",
        "      # center[0] = int(np.median(xs))\n",
        "      # center[1] = int(np.median(ys))\n",
        "      center[0] = int((max(xs)+min(xs))/2)\n",
        "      center[1] = int((max(ys)+min(ys))/2)\n",
        "\n",
        "  return center"
      ],
      "metadata": {
        "id": "U85S5DnqnxFF"
      },
      "execution_count": 14,
      "outputs": []
    },
    {
      "cell_type": "code",
      "source": [
        "def print_bbox(image, bbox, title = ''):\n",
        "\n",
        "  image_box = image.copy()\n",
        "  plt.figure(figsize=(10,10))\n",
        "  plt.title(title)\n",
        "\n",
        "  for i in range(bbox[0], bbox[2]):\n",
        "    for j in range(bbox[1], bbox[3]):\n",
        "      image_box.putpixel((j, i), (225, 0, 0))\n",
        "\n",
        "  plt.imshow(image_box)\n"
      ],
      "metadata": {
        "id": "hboidij4nyHf"
      },
      "execution_count": 15,
      "outputs": []
    },
    {
      "cell_type": "code",
      "source": [
        "\n",
        "def computeIntersection(bbox, BBOX):\n",
        "  x_min = bbox[0]\n",
        "  y_min = bbox[1]\n",
        "  x_max = bbox[2]\n",
        "  y_max = bbox[3]\n",
        "  X_MIN = BBOX[0]\n",
        "  Y_MIN = BBOX[1]\n",
        "  X_MAX = BBOX[2]\n",
        "  Y_MAX = BBOX[3]\n",
        "\n",
        "  dx = min(x_max, X_MAX) - max(x_min, X_MIN)\n",
        "  dy = min(y_max, Y_MAX) - max(y_min, Y_MIN)\n",
        "  if (dx>=0) and (dy>=0):\n",
        "      area = dx*dy\n",
        "  else:\n",
        "      area = 0\n",
        "  return area\n",
        "\n",
        "def computeAccuracy(bbox, BBOX):\n",
        "    intersection = computeIntersection(bbox, BBOX)\n",
        "    area1 = (bbox[2]-bbox[0])*(bbox[3]-bbox[1])\n",
        "    area2 = (BBOX[2]-BBOX[0])*(BBOX[3]-BBOX[1])\n",
        "    union = area1 + area2 - intersection\n",
        "    return intersection / union\n",
        "\n",
        "def computePrecision(bbox, BBOX):\n",
        "    intersection = computeIntersection(bbox, BBOX)\n",
        "    area1 = (bbox[2]-bbox[0])*(bbox[3]-bbox[1]) + 0.000001\n",
        "    return intersection / area1\n"
      ],
      "metadata": {
        "id": "AZyii_l4n3dy"
      },
      "execution_count": 16,
      "outputs": []
    },
    {
      "cell_type": "code",
      "source": [
        "def show_mask(mask, ax, random_color=False):\n",
        "    if random_color:\n",
        "        color = np.concatenate([np.random.random(3), np.array([0.6])], axis=0)\n",
        "    else:\n",
        "        color = np.array([30/255, 144/255, 255/255, 0.6])\n",
        "    h, w = mask.shape[-2:]\n",
        "    mask_image = mask.reshape(h, w, 1) * color.reshape(1, 1, -1)\n",
        "    ax.imshow(mask_image)\n",
        "\n",
        "def show_points(coords, labels, ax, marker_size=375):\n",
        "    pos_points = coords[labels==1]\n",
        "    neg_points = coords[labels==0]\n",
        "    ax.scatter(pos_points[:, 0], pos_points[:, 1], color='green', marker='*', s=marker_size, edgecolor='white', linewidth=1.25)\n",
        "    ax.scatter(neg_points[:, 0], neg_points[:, 1], color='red', marker='*', s=marker_size, edgecolor='white', linewidth=1.25)\n",
        "\n",
        "def show_box(box, ax):\n",
        "    x0, y0 = box[0], box[1]\n",
        "    w, h = box[2] - box[0], box[3] - box[1]\n",
        "    ax.add_patch(plt.Rectangle((x0, y0), w, h, edgecolor='green', facecolor=(0,0,0,0), lw=2))"
      ],
      "metadata": {
        "id": "eGjFsh3gn62V"
      },
      "execution_count": 17,
      "outputs": []
    },
    {
      "cell_type": "code",
      "source": [
        "def cosine_similarity(images_z: torch.Tensor, texts_z: torch.Tensor):\n",
        "  # normalise the image and the text\n",
        "  images_z /= images_z.norm(dim=-1, keepdim=True)\n",
        "  texts_z /= texts_z.norm(dim=-1, keepdim=True)\n",
        "\n",
        "  # evaluate the cosine similarity between the sets of features\n",
        "  similarity = (texts_z @ images_z.T)\n",
        "\n",
        "  return similarity.cpu()"
      ],
      "metadata": {
        "id": "rVr2EZ94n9td"
      },
      "execution_count": 18,
      "outputs": []
    },
    {
      "cell_type": "markdown",
      "source": [
        "### Visualization"
      ],
      "metadata": {
        "id": "N9eKSLlaj5qy"
      }
    },
    {
      "cell_type": "code",
      "source": [
        "modelCLIP.cuda().eval()\n",
        "device = 'cuda'\n",
        "\n",
        "def check_baseline(loader, dataset, modelCLIP, preprocessCLIP, n_sample_to_check):\n",
        "\n",
        "  n_samples = 0\n",
        "  tot_accuracy = 0\n",
        "  tot_precision = 0\n",
        "  s = 0\n",
        "\n",
        "  for data_features, data_bbox in loader:\n",
        "\n",
        "    if n_samples in range(0, n_sample_to_check-1):\n",
        "      n_samples += 1\n",
        "      s += 1\n",
        "      continue\n",
        "\n",
        "    if n_samples in range(520,530):\n",
        "      n_samples += 1\n",
        "      s += 1\n",
        "      continue\n",
        "\n",
        "    if n_samples in range(750, 770):\n",
        "      n_samples += 1\n",
        "      s += 1\n",
        "      continue\n",
        "\n",
        "    if n_samples in range(2750, 2760):\n",
        "      n_samples += 1\n",
        "      s += 1\n",
        "      continue\n",
        "\n",
        "    if n_samples in range(2945, 2950):\n",
        "      n_samples += 1\n",
        "      s += 1\n",
        "      continue\n",
        "\n",
        "\n",
        "    sentences = dataset.getSentences(data_features)\n",
        "\n",
        "    target_bbox = [0, 0, 0, 0]\n",
        "    target_bbox[0] = int(data_bbox[1].item())\n",
        "    target_bbox[1] = int(data_bbox[0].item())\n",
        "    target_bbox[2] = int(data_bbox[1].item() + data_bbox[3].item())\n",
        "    target_bbox[3] = int(data_bbox[2].item() + data_bbox[0].item())\n",
        "\n",
        "    image = dataset.getImage(data_features)\n",
        "\n",
        "    img = np.array(image)\n",
        "    predictor.set_image(img)\n",
        "\n",
        "    points = []\n",
        "    for target in sentences:\n",
        "      print('TARGET:', target)\n",
        "      input_text = text_preprocess_im_text_match[\"eval\"](target)\n",
        "      input_image = image_preprocess_im_text_match[\"eval\"](image).unsqueeze(0).cuda()\n",
        "      text_tokens = blip_im_text_match.tokenizer(input_text, return_tensors=\"pt\").to('cuda')\n",
        "      gradcam, _ = compute_gradcam(\n",
        "          blip_im_text_match, input_image, input_text, text_tokens, block_num=7\n",
        "        )\n",
        "      point = center_da_gradcam(gradcam, image, text_tokens=text_tokens, average=True, visualize=True)\n",
        "      point = [point[1], point[0]]\n",
        "      points.append(point)\n",
        "\n",
        "    input_point = np.array(points)\n",
        "    input_label = np.ones(len(sentences))\n",
        "\n",
        "    masks, scores, _ = predictor.predict(\n",
        "        point_coords=input_point,\n",
        "        point_labels=input_label,\n",
        "        multimask_output=True,\n",
        "    )\n",
        "\n",
        "\n",
        "    for i, (mask, score) in enumerate(zip(masks, scores)):\n",
        "      plt.figure(figsize=(10,10))\n",
        "      plt.imshow(image)\n",
        "      show_mask(mask, plt.gca())\n",
        "      show_points(input_point, input_label, plt.gca())\n",
        "      plt.title(f\"Mask {i+1}, Score: {score:.3f}\", fontsize=18)\n",
        "      plt.axis('off')\n",
        "      plt.show()\n",
        "\n",
        "    xs = []\n",
        "    ys = []\n",
        "\n",
        "    for i in range(masks.shape[1]):\n",
        "      for j in range(masks.shape[2]):\n",
        "        if masks[0][i][j]*1+masks[1][i][j]*1+masks[2][i][j]*1>0:\n",
        "          xs.append(i)\n",
        "          ys.append(j)\n",
        "\n",
        "    bbox = [min(xs), min(ys), max(xs), max(ys)]\n",
        "    print_bbox(image, bbox, 'FOUND BBOX')\n",
        "    print_bbox(image, target_bbox, 'TARGET BBOX')\n",
        "\n",
        "    # COMPUTE PRECISION\n",
        "    precision = computePrecision(bbox, target_bbox)\n",
        "    accuracy = computeAccuracy(bbox, target_bbox)\n",
        "\n",
        "    break\n",
        "\n",
        "    n_samples += 1\n",
        "    tot_accuracy += accuracy\n",
        "    tot_precision += precision\n",
        "\n",
        "    print(f'{n_samples})', 'Precision:', precision, '\\tAccuracy:', accuracy, '\\n')\n",
        "\n",
        "    if n_samples%100==0:\n",
        "      print('\\n-----------------------------------------------------------------')\n",
        "      print('TOT_Precision:', tot_precision/(n_samples-s), 'TOT_Accuracy:', tot_accuracy/(n_samples-s))\n",
        "      print('\\n-----------------------------------------------------------------')\n",
        "\n",
        "  return #tot_accuracy/n_samples\n",
        ""
      ],
      "metadata": {
        "id": "fEe5ByWdoKGj"
      },
      "execution_count": 19,
      "outputs": []
    },
    {
      "cell_type": "code",
      "source": [
        "check_baseline(test_dataloader, test_dataset, modelCLIP, preprocessCLIP, n_sample_to_check=1)"
      ],
      "metadata": {
        "colab": {
          "base_uri": "https://localhost:8080/"
        },
        "id": "I-u-g4HGoKDQ",
        "outputId": "b457c6a3-e273-4062-c05e-a0e9e92df0b4"
      },
      "execution_count": 20,
      "outputs": [
        {
          "output_type": "stream",
          "name": "stdout",
          "text": [
            "TARGET: a photo of the man in yellow coat\n",
            "TARGET: a photo of skiier in red pants\n"
          ]
        }
      ]
    },
    {
      "cell_type": "markdown",
      "source": [
        "### Baseline with SAM"
      ],
      "metadata": {
        "id": "l25mjFndj5nd"
      }
    },
    {
      "cell_type": "code",
      "source": [
        "modelCLIP.cuda().eval()\n",
        "device = 'cuda'\n",
        "\n",
        "def baseline(loader, dataset, modelCLIP, preprocessCLIP):\n",
        "\n",
        "  n_samples = 0\n",
        "  tot_accuracy = 0\n",
        "  tot_precision = 0\n",
        "  s = 0\n",
        "\n",
        "  for data_features, data_bbox in loader:\n",
        "\n",
        "    if n_samples in range(520,530):\n",
        "      n_samples += 1\n",
        "      s += 1\n",
        "      continue\n",
        "\n",
        "    if n_samples in range(750, 770):\n",
        "      n_samples += 1\n",
        "      s += 1\n",
        "      continue\n",
        "\n",
        "    if n_samples in range(2750, 2760):\n",
        "      n_samples += 1\n",
        "      s += 1\n",
        "      continue\n",
        "\n",
        "    if n_samples in range(2945, 2950):\n",
        "      n_samples += 1\n",
        "      s += 1\n",
        "      continue\n",
        "\n",
        "    sentences = dataset.getSentences(data_features)\n",
        "    # print('num sentences:', len(sentences))\n",
        "\n",
        "    target_bbox = [0, 0, 0, 0]\n",
        "    target_bbox[0] = int(data_bbox[1].item())\n",
        "    target_bbox[1] = int(data_bbox[0].item())\n",
        "    target_bbox[2] = int(data_bbox[1].item() + data_bbox[3].item())\n",
        "    target_bbox[3] = int(data_bbox[2].item() + data_bbox[0].item())\n",
        "\n",
        "    image = dataset.getImage(data_features)\n",
        "\n",
        "    img = np.array(image)\n",
        "    predictor.set_image(img)\n",
        "\n",
        "    points = []\n",
        "    for target in sentences:\n",
        "      input_text = text_preprocess_im_text_match[\"eval\"](target)\n",
        "      input_image = image_preprocess_im_text_match[\"eval\"](image).unsqueeze(0).cuda()\n",
        "      text_tokens = blip_im_text_match.tokenizer(input_text, return_tensors=\"pt\").to('cuda')\n",
        "      gradcam, _ = compute_gradcam(\n",
        "          blip_im_text_match, input_image, input_text, text_tokens, block_num=7\n",
        "        )\n",
        "      point = center_da_gradcam(gradcam, image, text_tokens=text_tokens)\n",
        "      point = [point[1], point[0]]\n",
        "      points.append(point)\n",
        "\n",
        "    input_point = np.array(points)\n",
        "    input_label = np.ones(len(sentences))\n",
        "\n",
        "    masks, scores, _ = predictor.predict(\n",
        "        point_coords=input_point,\n",
        "        point_labels=input_label,\n",
        "        multimask_output=True,\n",
        "    )\n",
        "\n",
        "    xs = []\n",
        "    ys = []\n",
        "\n",
        "    for i in range(masks.shape[1]):\n",
        "      for j in range(masks.shape[2]):\n",
        "        if masks[0][i][j]*1+masks[1][i][j]*1+masks[2][i][j]*1>0:\n",
        "          xs.append(i)\n",
        "          ys.append(j)\n",
        "\n",
        "    bbox = [min(xs), min(ys), max(xs), max(ys)]\n",
        "\n",
        "    # COMPUTE PRECISION\n",
        "    precision = computePrecision(bbox, target_bbox)\n",
        "    accuracy = computeAccuracy(bbox, target_bbox)\n",
        "\n",
        "    n_samples += 1\n",
        "    tot_accuracy += accuracy\n",
        "    tot_precision += precision\n",
        "\n",
        "    # print(f'{n_samples})', 'Precision:', precision, '\\tAccuracy:', accuracy, '\\n')\n",
        "\n",
        "    if n_samples%200==0:\n",
        "      print(f'Total accuracy after {n_samples} samples:\\t{tot_accuracy/(n_samples-s)}')\n",
        "      # print('\\n-----------------------------------------------------------------')\n",
        "      # print('TOT_Precision:', tot_precision/(n_samples-s), 'TOT_Accuracy:', tot_accuracy/(n_samples-s))\n",
        "      # print('\\n-----------------------------------------------------------------')\n",
        "\n",
        "  return #tot_accuracy/n_samples\n",
        ""
      ],
      "metadata": {
        "id": "nS3K1DQ7oWdg"
      },
      "execution_count": 28,
      "outputs": []
    },
    {
      "cell_type": "markdown",
      "source": [
        "### Run the code"
      ],
      "metadata": {
        "id": "cnBAPdYU5PNd"
      }
    },
    {
      "cell_type": "code",
      "source": [
        "baseline(test_dataloader, test_dataset, modelCLIP, preprocessCLIP)"
      ],
      "metadata": {
        "colab": {
          "base_uri": "https://localhost:8080/",
          "height": 425
        },
        "id": "p9gXkdftoWaT",
        "outputId": "878fb4a4-5b0c-43e0-985a-c41d459f70a9"
      },
      "execution_count": 29,
      "outputs": [
        {
          "output_type": "stream",
          "name": "stdout",
          "text": [
            "Total accuracy after 200 samples:\t0.4437082553007847\n",
            "Total accuracy after 400 samples:\t0.4440875450768603\n",
            "Total accuracy after 600 samples:\t0.43735782552374664\n",
            "Total accuracy after 800 samples:\t0.44464257584181244\n",
            "Total accuracy after 1000 samples:\t0.45192359849595304\n"
          ]
        },
        {
          "output_type": "error",
          "ename": "RuntimeError",
          "evalue": "ignored",
          "traceback": [
            "\u001b[0;31m---------------------------------------------------------------------------\u001b[0m",
            "\u001b[0;31mRuntimeError\u001b[0m                              Traceback (most recent call last)",
            "\u001b[0;32m<ipython-input-29-29c351d7e746>\u001b[0m in \u001b[0;36m<cell line: 1>\u001b[0;34m()\u001b[0m\n\u001b[0;32m----> 1\u001b[0;31m \u001b[0mbaseline\u001b[0m\u001b[0;34m(\u001b[0m\u001b[0mtest_dataloader\u001b[0m\u001b[0;34m,\u001b[0m \u001b[0mtest_dataset\u001b[0m\u001b[0;34m,\u001b[0m \u001b[0mmodelCLIP\u001b[0m\u001b[0;34m,\u001b[0m \u001b[0mpreprocessCLIP\u001b[0m\u001b[0;34m)\u001b[0m\u001b[0;34m\u001b[0m\u001b[0;34m\u001b[0m\u001b[0m\n\u001b[0m",
            "\u001b[0;32m<ipython-input-28-493ddc0dda2f>\u001b[0m in \u001b[0;36mbaseline\u001b[0;34m(loader, dataset, modelCLIP, preprocessCLIP)\u001b[0m\n\u001b[1;32m     50\u001b[0m       \u001b[0minput_image\u001b[0m \u001b[0;34m=\u001b[0m \u001b[0mimage_preprocess_im_text_match\u001b[0m\u001b[0;34m[\u001b[0m\u001b[0;34m\"eval\"\u001b[0m\u001b[0;34m]\u001b[0m\u001b[0;34m(\u001b[0m\u001b[0mimage\u001b[0m\u001b[0;34m)\u001b[0m\u001b[0;34m.\u001b[0m\u001b[0munsqueeze\u001b[0m\u001b[0;34m(\u001b[0m\u001b[0;36m0\u001b[0m\u001b[0;34m)\u001b[0m\u001b[0;34m.\u001b[0m\u001b[0mcuda\u001b[0m\u001b[0;34m(\u001b[0m\u001b[0;34m)\u001b[0m\u001b[0;34m\u001b[0m\u001b[0;34m\u001b[0m\u001b[0m\n\u001b[1;32m     51\u001b[0m       \u001b[0mtext_tokens\u001b[0m \u001b[0;34m=\u001b[0m \u001b[0mblip_im_text_match\u001b[0m\u001b[0;34m.\u001b[0m\u001b[0mtokenizer\u001b[0m\u001b[0;34m(\u001b[0m\u001b[0minput_text\u001b[0m\u001b[0;34m,\u001b[0m \u001b[0mreturn_tensors\u001b[0m\u001b[0;34m=\u001b[0m\u001b[0;34m\"pt\"\u001b[0m\u001b[0;34m)\u001b[0m\u001b[0;34m.\u001b[0m\u001b[0mto\u001b[0m\u001b[0;34m(\u001b[0m\u001b[0;34m'cuda'\u001b[0m\u001b[0;34m)\u001b[0m\u001b[0;34m\u001b[0m\u001b[0;34m\u001b[0m\u001b[0m\n\u001b[0;32m---> 52\u001b[0;31m       gradcam, _ = compute_gradcam(\n\u001b[0m\u001b[1;32m     53\u001b[0m           \u001b[0mblip_im_text_match\u001b[0m\u001b[0;34m,\u001b[0m \u001b[0minput_image\u001b[0m\u001b[0;34m,\u001b[0m \u001b[0minput_text\u001b[0m\u001b[0;34m,\u001b[0m \u001b[0mtext_tokens\u001b[0m\u001b[0;34m,\u001b[0m \u001b[0mblock_num\u001b[0m\u001b[0;34m=\u001b[0m\u001b[0;36m7\u001b[0m\u001b[0;34m\u001b[0m\u001b[0;34m\u001b[0m\u001b[0m\n\u001b[1;32m     54\u001b[0m         ) \n",
            "\u001b[0;32m/usr/local/lib/python3.10/dist-packages/lavis/models/blip_models/blip_image_text_matching.py\u001b[0m in \u001b[0;36mcompute_gradcam\u001b[0;34m(model, visual_input, text_input, tokenized_text, block_num)\u001b[0m\n\u001b[1;32m    174\u001b[0m \u001b[0;34m\u001b[0m\u001b[0m\n\u001b[1;32m    175\u001b[0m         \u001b[0;31m# assume using vit with 576 num image patch\u001b[0m\u001b[0;34m\u001b[0m\u001b[0;34m\u001b[0m\u001b[0m\n\u001b[0;32m--> 176\u001b[0;31m         \u001b[0mcams\u001b[0m \u001b[0;34m=\u001b[0m \u001b[0mcams\u001b[0m\u001b[0;34m[\u001b[0m\u001b[0;34m:\u001b[0m\u001b[0;34m,\u001b[0m \u001b[0;34m:\u001b[0m\u001b[0;34m,\u001b[0m \u001b[0;34m:\u001b[0m\u001b[0;34m,\u001b[0m \u001b[0;36m1\u001b[0m\u001b[0;34m:\u001b[0m\u001b[0;34m]\u001b[0m\u001b[0;34m.\u001b[0m\u001b[0mreshape\u001b[0m\u001b[0;34m(\u001b[0m\u001b[0mvisual_input\u001b[0m\u001b[0;34m.\u001b[0m\u001b[0msize\u001b[0m\u001b[0;34m(\u001b[0m\u001b[0;36m0\u001b[0m\u001b[0;34m)\u001b[0m\u001b[0;34m,\u001b[0m \u001b[0;36m12\u001b[0m\u001b[0;34m,\u001b[0m \u001b[0;34m-\u001b[0m\u001b[0;36m1\u001b[0m\u001b[0;34m,\u001b[0m \u001b[0;36m24\u001b[0m\u001b[0;34m,\u001b[0m \u001b[0;36m24\u001b[0m\u001b[0;34m)\u001b[0m \u001b[0;34m*\u001b[0m \u001b[0mmask\u001b[0m\u001b[0;34m\u001b[0m\u001b[0;34m\u001b[0m\u001b[0m\n\u001b[0m\u001b[1;32m    177\u001b[0m         grads = (\n\u001b[1;32m    178\u001b[0m             \u001b[0mgrads\u001b[0m\u001b[0;34m[\u001b[0m\u001b[0;34m:\u001b[0m\u001b[0;34m,\u001b[0m \u001b[0;34m:\u001b[0m\u001b[0;34m,\u001b[0m \u001b[0;34m:\u001b[0m\u001b[0;34m,\u001b[0m \u001b[0;36m1\u001b[0m\u001b[0;34m:\u001b[0m\u001b[0;34m]\u001b[0m\u001b[0;34m.\u001b[0m\u001b[0mclamp\u001b[0m\u001b[0;34m(\u001b[0m\u001b[0;36m0\u001b[0m\u001b[0;34m)\u001b[0m\u001b[0;34m.\u001b[0m\u001b[0mreshape\u001b[0m\u001b[0;34m(\u001b[0m\u001b[0mvisual_input\u001b[0m\u001b[0;34m.\u001b[0m\u001b[0msize\u001b[0m\u001b[0;34m(\u001b[0m\u001b[0;36m0\u001b[0m\u001b[0;34m)\u001b[0m\u001b[0;34m,\u001b[0m \u001b[0;36m12\u001b[0m\u001b[0;34m,\u001b[0m \u001b[0;34m-\u001b[0m\u001b[0;36m1\u001b[0m\u001b[0;34m,\u001b[0m \u001b[0;36m24\u001b[0m\u001b[0;34m,\u001b[0m \u001b[0;36m24\u001b[0m\u001b[0;34m)\u001b[0m\u001b[0;34m\u001b[0m\u001b[0;34m\u001b[0m\u001b[0m\n",
            "\u001b[0;31mRuntimeError\u001b[0m: The size of tensor a (35) must match the size of tensor b (37) at non-singleton dimension 2"
          ]
        }
      ]
    },
    {
      "cell_type": "markdown",
      "source": [
        "### Observations\n",
        "\n",
        "This baseline proves that is not strictly necessary to use an object detector to perform visual grounding. From the visual encoder, we can retrieve how much each pixel contributes to computing the similarity with the text query. This leads to a heat map which shows which parts of the image are related to the text. The consequent idea is to try to connect each area with the part corresponding part of the sentence in order to achieve a deep comprehension of the context. We scratched this idea starting from a simple baseline which tresholds the heatmap in order to consider the most relevant stain/patch in the heat map. The output bounding box is around the object referred to by this patch. To compute the correct size of the bounding box we used sam. For each sentence pointing to the same object we ecìxtract a point from the heatmap and then we use these points to compute a mask for the object using SAM. The accuracy is computed with IoU and a bounding box is considered correctly classified if  IoU≥0.5, as in the previous baseline.\n",
        "\n",
        "We managed to achieve  0.44% accuracy, which proves this method can work. Just a little engineering pushed the performance up by 3%, showing there is a wide range for improvements. A big limitation of this baseline is that it doesn't consider the context. We think a specific network that takes as input the whole image concatenated with the heatmap and combines this information with the text query could overcome this issue and achieve good performance. However, we decided to follow another way to relate the image and text and we will present this work in the last section."
      ],
      "metadata": {
        "id": "qIct1a6Aj5kb"
      }
    },
    {
      "cell_type": "markdown",
      "source": [
        "# Fine-tuning CLIP for Visual Grounding"
      ],
      "metadata": {
        "id": "8jyXU_U2j5ew"
      }
    },
    {
      "cell_type": "markdown",
      "source": [
        "## Dataset and DataLoader\n",
        "\n",
        "We utilized the RefCOCOg dataset for both training and evaluation. For dataset processing, we developed a custom class named 'RefcocogDataset' and subsequently employed a DataLoader to feed batches into the model."
      ],
      "metadata": {
        "id": "uI_Cv2MaKtBy"
      }
    },
    {
      "cell_type": "code",
      "source": [
        "import json\n",
        "import pandas\n",
        "from skimage import io\n",
        "from torch.utils.data import random_split\n",
        "from typing import Sequence, Union\n",
        "\n",
        "from PIL import Image, ImageDraw\n",
        "from torch.utils.data import Dataset, DataLoader\n",
        "import torchvision.transforms as T\n",
        "import torch\n",
        "import numpy as np\n",
        "\n",
        "\n",
        "class RefcocogDataset(Dataset):\n",
        "    def __init__(self, base_path, split=None, transform=None, tokenization=None):\n",
        "        annotation_path = base_path + \"/annotations/\"\n",
        "\n",
        "        self.IMAGES_PATH = base_path + \"/images/\"\n",
        "        self.transform = transform\n",
        "        self.tokenization = tokenization\n",
        "\n",
        "        tmp_annotations = pandas.read_pickle(annotation_path + \"refs(umd).p\")\n",
        "        tmp_instances = json.load(open(annotation_path + \"instances.json\", \"r\"))\n",
        "\n",
        "        annotations_dt = pandas.DataFrame.from_records(tmp_annotations) \\\n",
        "            .filter(items=[\"image_id\", \"split\", \"sentences\", \"ann_id\"])\n",
        "\n",
        "        instances_dt = pandas.DataFrame.from_records(tmp_instances['annotations'])\n",
        "\n",
        "        # Add Explode to separate list-like sentences column and use them as separate samples\n",
        "        self.annotations = annotations_dt \\\n",
        "            .merge(instances_dt[[\"id\", \"bbox\", \"area\", \"segmentation\"]], left_on=\"ann_id\", right_on=\"id\") \\\n",
        "            .explode('sentences', ignore_index=True) \\\n",
        "            .drop(columns=\"id\")\n",
        "\n",
        "        if split is not None:\n",
        "            self.annotations = self.__get_annotations_by_split(split.lower())\n",
        "\n",
        "    def getImage(self, sample):\n",
        "        id = sample['idx'][0].item()\n",
        "        item = self.annotations.iloc[id]\n",
        "        image = self.__getimage(item.image_id)\n",
        "\n",
        "        return image\n",
        "\n",
        "    def getSentences(self, sample):\n",
        "        id = sample['idx'][0].item()\n",
        "        item = self.annotations.iloc[id]\n",
        "\n",
        "        return self.__extract_sentences(item.sentences)\n",
        "\n",
        "    def __computeGroundTruth(self, item):\n",
        "        image = self.__getimage(item.image_id)\n",
        "        mask = Image.new(\"L\", image.size)\n",
        "        draw = ImageDraw.Draw(mask)\n",
        "        draw.polygon(item.segmentation[0], fill=\"white\", width=0)\n",
        "\n",
        "        return self.__img_preprocess(mask)\n",
        "\n",
        "    def __img_preprocess(self, image: Image, n_px: int = 224, grid_px: int = 14):\n",
        "        resized = T.Resize(n_px, interpolation=Image.BICUBIC)(image)\n",
        "        crop = T.CenterCrop(n_px)(resized)\n",
        "\n",
        "        grid = T.Resize(grid_px, interpolation=Image.BICUBIC)(crop)\n",
        "\n",
        "        arr = torch.tensor(np.asarray(grid))\n",
        "        return arr\n",
        "\n",
        "    def __get_train_annotations(self):\n",
        "        return self.annotations[self.annotations.split == \"train\"].reset_index()\n",
        "\n",
        "    def __get_annotations_by_split(self, split):\n",
        "        return self.annotations[self.annotations.split == split].reset_index()\n",
        "\n",
        "    def __getimage(self, id):\n",
        "        return Image.open(self.IMAGES_PATH + \"COCO_train2014_\" + str(id).zfill(12) + \".jpg\")\n",
        "\n",
        "    def __extract_sentences(self, sentence):\n",
        "        return f\"a photo of a {sentence['sent']}\"\n",
        "\n",
        "    def __tokenize_sents(self, sentences):\n",
        "        return [self.tokenization(s) for s in sentences]\n",
        "\n",
        "    def __len__(self):\n",
        "        return self.annotations.shape[0]\n",
        "\n",
        "    def __getitem__(self, idx):\n",
        "        # Return {sample, sentence, id}, bbox\n",
        "        # Return single sentence, probably preprocess needed so we do not waste data\n",
        "\n",
        "        item = self.annotations.iloc[idx]\n",
        "        image = self.__getimage(item.image_id)\n",
        "        sentences = self.__extract_sentences(item.sentences)\n",
        "\n",
        "        if self.transform:\n",
        "            image = self.transform(image)\n",
        "\n",
        "        if self.tokenization:\n",
        "            sentences = self.__tokenize_sents(sentences)\n",
        "\n",
        "        sample = {'idx': idx, 'image': image, 'sentences': sentences}\n",
        "\n",
        "        return sample, {'bbox': item.bbox, 'gt': self.__computeGroundTruth(item)}\n",
        "\n",
        "\n",
        "if __name__ == \"__main__\":\n",
        "    _, preprocess = clip.load(\"ViT-B/32\")\n",
        "\n",
        "    dataset = RefcocogDataset(\"../Dataset/refcocog\", split=\"train\", tokenization=clip.tokenize, transform=preprocess)\n",
        "    train, val = random_split(dataset, [0.8, 0.2])\n",
        "    train_dataloader = DataLoader(train)\n",
        "\n",
        "    train_features, train_bbox = next(iter(train_dataloader))\n",
        "    dataset.getImage(train_features).show()\n",
        "    print(dataset.getSentences(train_features))\n",
        "    print(len(train))\n",
        "    print(len(val))"
      ],
      "metadata": {
        "colab": {
          "base_uri": "https://localhost:8080/"
        },
        "id": "QQpffNBGZY2R",
        "outputId": "903cc7e6-d133-47be-83e3-fca5a4d85b30"
      },
      "execution_count": null,
      "outputs": [
        {
          "output_type": "stream",
          "name": "stdout",
          "text": [
            "a photo of a an ambulance\n",
            "64410\n",
            "16102\n"
          ]
        }
      ]
    },
    {
      "cell_type": "markdown",
      "source": [
        "## Parte da togliere"
      ],
      "metadata": {
        "id": "5dwh32puJ4xT"
      }
    },
    {
      "cell_type": "code",
      "source": [
        "import torch\n",
        "\n",
        "fv = list()\n",
        "for i in range(4):\n",
        "  fv.append(torch.randn((197, 1, 768)))\n",
        "\n",
        "print(fv[0].shape, fv[1].shape, fv[2].shape, fv[3].shape)"
      ],
      "metadata": {
        "colab": {
          "base_uri": "https://localhost:8080/"
        },
        "id": "POPF_cIFBl1F",
        "outputId": "370e925f-2c41-4397-8ba5-6fab02348057"
      },
      "execution_count": null,
      "outputs": [
        {
          "output_type": "stream",
          "name": "stdout",
          "text": [
            "torch.Size([197, 1, 768]) torch.Size([197, 1, 768]) torch.Size([197, 1, 768]) torch.Size([197, 1, 768])\n"
          ]
        }
      ]
    },
    {
      "cell_type": "code",
      "source": [
        "import matplotlib.pyplot as plt\n",
        "\n",
        "p = torch.rand((14,14))\n",
        "print(p.shape)\n",
        "\n",
        "fig, axs = plt.subplots(1, 2, figsize=(10, 5))\n",
        "axs[0].imshow(p)\n",
        "axs[1].imshow(p)\n",
        "# plt.tight_layout()\n",
        "plt.show()"
      ],
      "metadata": {
        "colab": {
          "base_uri": "https://localhost:8080/",
          "height": 429
        },
        "id": "eDcP3V8iBlxk",
        "outputId": "54988033-8aec-4ce5-af90-b411e150512f"
      },
      "execution_count": null,
      "outputs": [
        {
          "output_type": "stream",
          "name": "stdout",
          "text": [
            "torch.Size([14, 14])\n"
          ]
        },
        {
          "output_type": "display_data",
          "data": {
            "text/plain": [
              "<Figure size 1000x500 with 2 Axes>"
            ],
            "image/png": "[encoded data removed]"
          },
          "metadata": {}
        }
      ]
    },
    {
      "cell_type": "code",
      "source": [
        "fv1 = fv[1][1:].reshape([1, 768, 14, 14])\n",
        "fv1.shape"
      ],
      "metadata": {
        "colab": {
          "base_uri": "https://localhost:8080/"
        },
        "id": "q2hXHIiVBlvD",
        "outputId": "1077158b-c95a-416e-fb48-f91c078eaeff"
      },
      "execution_count": null,
      "outputs": [
        {
          "output_type": "execute_result",
          "data": {
            "text/plain": [
              "torch.Size([1, 768, 14, 14])"
            ]
          },
          "metadata": {},
          "execution_count": 3
        }
      ]
    },
    {
      "cell_type": "code",
      "source": [
        "fv1 = torch.nn.functional.interpolate(input=fv1, mode='bilinear', scale_factor=2)\n",
        "fv1.shape"
      ],
      "metadata": {
        "colab": {
          "base_uri": "https://localhost:8080/"
        },
        "id": "jSe415GYIQtS",
        "outputId": "bb88f3b3-f595-40ce-af36-57ecd703a525"
      },
      "execution_count": null,
      "outputs": [
        {
          "output_type": "execute_result",
          "data": {
            "text/plain": [
              "torch.Size([1, 768, 28, 28])"
            ]
          },
          "metadata": {},
          "execution_count": 5
        }
      ]
    },
    {
      "cell_type": "code",
      "source": [
        "m1 = torch.cat([p.unsqueeze(0).unsqueeze(0), fv1], dim=1)\n",
        "m1.shape"
      ],
      "metadata": {
        "colab": {
          "base_uri": "https://localhost:8080/",
          "height": 192
        },
        "id": "4Ev5ImU7Blro",
        "outputId": "3b6bedd9-3ba0-4767-bbb3-3e91169a7ff2"
      },
      "execution_count": null,
      "outputs": [
        {
          "output_type": "error",
          "ename": "RuntimeError",
          "evalue": "ignored",
          "traceback": [
            "\u001b[0;31m---------------------------------------------------------------------------\u001b[0m",
            "\u001b[0;31mRuntimeError\u001b[0m                              Traceback (most recent call last)",
            "\u001b[0;32m<ipython-input-6-6c0ca85d0f4b>\u001b[0m in \u001b[0;36m<cell line: 1>\u001b[0;34m()\u001b[0m\n\u001b[0;32m----> 1\u001b[0;31m \u001b[0mm1\u001b[0m \u001b[0;34m=\u001b[0m \u001b[0mtorch\u001b[0m\u001b[0;34m.\u001b[0m\u001b[0mcat\u001b[0m\u001b[0;34m(\u001b[0m\u001b[0;34m[\u001b[0m\u001b[0mp\u001b[0m\u001b[0;34m.\u001b[0m\u001b[0munsqueeze\u001b[0m\u001b[0;34m(\u001b[0m\u001b[0;36m0\u001b[0m\u001b[0;34m)\u001b[0m\u001b[0;34m.\u001b[0m\u001b[0munsqueeze\u001b[0m\u001b[0;34m(\u001b[0m\u001b[0;36m0\u001b[0m\u001b[0;34m)\u001b[0m\u001b[0;34m,\u001b[0m \u001b[0mfv1\u001b[0m\u001b[0;34m]\u001b[0m\u001b[0;34m,\u001b[0m \u001b[0mdim\u001b[0m\u001b[0;34m=\u001b[0m\u001b[0;36m1\u001b[0m\u001b[0;34m)\u001b[0m\u001b[0;34m\u001b[0m\u001b[0;34m\u001b[0m\u001b[0m\n\u001b[0m\u001b[1;32m      2\u001b[0m \u001b[0mm1\u001b[0m\u001b[0;34m.\u001b[0m\u001b[0mshape\u001b[0m\u001b[0;34m\u001b[0m\u001b[0;34m\u001b[0m\u001b[0m\n",
            "\u001b[0;31mRuntimeError\u001b[0m: Sizes of tensors must match except in dimension 1. Expected size 14 but got size 28 for tensor number 1 in the list."
          ]
        }
      ]
    },
    {
      "cell_type": "code",
      "source": [
        "import torch\n",
        "import torch.nn as nn\n",
        "\n",
        "class Refiner(nn.Module):\n",
        "  \"\"\" Refiner designed to upsample from a low level probability map into a pixel probability map  \"\"\"\n",
        "\n",
        "  def __init__(self):\n",
        "\n",
        "    super(Refiner, self).__init__()\n",
        "\n",
        "    self.conv = nn.Conv2d(in_channels=769 , out_channels=1, kernel_size=(3, 3), padding='same')\n",
        "    self.relu = nn.ReLU()\n",
        "    self.bn = nn.BatchNorm2d(1)\n",
        "    self.W = nn.Linear(224, 224)\n",
        "    self.sigmoid = nn.Sigmoid()\n",
        "    self.W.bias.data.fill_(0.)\n",
        "\n",
        "  def forward(self, p, fv):\n",
        "    \"\"\"\n",
        "    Args:\n",
        "      p:  low level probability map (14x14)\n",
        "      fv[1]:  image tokens encoded at layer 1\n",
        "      fv[2]:  image tokens encoded at layer 2\n",
        "      fv[3]:  image tokens encoded at layer 3\n",
        "      fv[4]:  image tokens encoded at layer 4\n",
        "    \"\"\"\n",
        "\n",
        "    x = p.unsqueeze(0).unsqueeze(0)\n",
        "\n",
        "    fv4 = fv[3][1:].reshape([1, 768, 14, 14])\n",
        "    x = torch.cat([x, fv4], dim=1)\n",
        "    x = self.conv(x)\n",
        "    x = self.relu(x)\n",
        "    x = self.bn(x)\n",
        "    x = nn.functional.interpolate(input=x, mode='bilinear', scale_factor=2)\n",
        "\n",
        "    fv3 = fv[2][1:].reshape([1, 768, 14, 14])\n",
        "    fv3 = nn.functional.interpolate(input=fv3, mode='bilinear', scale_factor=2)\n",
        "    x = torch.cat([x, fv3], dim=1)\n",
        "    x = self.conv(x)\n",
        "    x = self.relu(x)\n",
        "    x = self.bn(x)\n",
        "    x = nn.functional.interpolate(input=x, mode='bilinear', scale_factor=2)\n",
        "\n",
        "    fv2 = fv[1][1:].reshape([1, 768, 14, 14])\n",
        "    fv2 = nn.functional.interpolate(input=fv2, mode='bilinear', scale_factor=4)\n",
        "    x = torch.cat([x, fv2], dim=1)\n",
        "    x = self.conv(x)\n",
        "    x = self.relu(x)\n",
        "    x = self.bn(x)\n",
        "    x = nn.functional.interpolate(input=x, mode='bilinear', scale_factor=2)\n",
        "\n",
        "    fv1 = fv[0][1:].reshape([1, 768, 14, 14])\n",
        "    fv1 = nn.functional.interpolate(input=fv1, mode='bilinear', scale_factor=8)\n",
        "    x = torch.cat([x, fv1], dim=1)\n",
        "    x = self.conv(x)\n",
        "    x = self.relu(x)\n",
        "    x = self.bn(x)\n",
        "    x = nn.functional.interpolate(input=x, mode='bilinear', scale_factor=2)\n",
        "\n",
        "    x = self.W(x)\n",
        "    x = self.sigmoid(x)\n",
        "\n",
        "    return x\n"
      ],
      "metadata": {
        "id": "EbEj-N2F3pBm"
      },
      "execution_count": null,
      "outputs": []
    },
    {
      "cell_type": "code",
      "source": [
        "refiner = Refiner()\n"
      ],
      "metadata": {
        "id": "lkB3dPM6FwQY"
      },
      "execution_count": null,
      "outputs": []
    },
    {
      "cell_type": "code",
      "source": [
        "p_map = refiner(p, fv).squeeze(0).squeeze(0).detach().numpy()\n",
        "p_map.shape"
      ],
      "metadata": {
        "colab": {
          "base_uri": "https://localhost:8080/"
        },
        "id": "vNIEKBAdHneX",
        "outputId": "d3b187fa-75fc-4690-adff-4a88ebafd000"
      },
      "execution_count": null,
      "outputs": [
        {
          "output_type": "execute_result",
          "data": {
            "text/plain": [
              "(224, 224)"
            ]
          },
          "metadata": {},
          "execution_count": 17
        }
      ]
    },
    {
      "cell_type": "code",
      "source": [
        "fig, axs = plt.subplots(1, 2, figsize=(10, 5))\n",
        "axs[0].imshow(p_map)\n",
        "axs[1].imshow(p_map)\n",
        "plt.tight_layout()\n",
        "plt.show()"
      ],
      "metadata": {
        "colab": {
          "base_uri": "https://localhost:8080/",
          "height": 506
        },
        "id": "Af-9XFZsHnaz",
        "outputId": "a50521dc-38d1-4d45-be5f-89812f06eedf"
      },
      "execution_count": null,
      "outputs": [
        {
          "output_type": "display_data",
          "data": {
            "text/plain": [
              "<Figure size 1000x500 with 2 Axes>"
            ],
            "image/png": "[encoded data removed]"
          },
          "metadata": {}
        }
      ]
    },
    {
      "cell_type": "code",
      "source": [],
      "metadata": {
        "id": "Swu6IVHcHnYn"
      },
      "execution_count": null,
      "outputs": []
    },
    {
      "cell_type": "code",
      "source": [],
      "metadata": {
        "id": "dbbiIooEHnWX"
      },
      "execution_count": null,
      "outputs": []
    },
    {
      "cell_type": "code",
      "source": [],
      "metadata": {
        "id": "fD11WWFHUXSv"
      },
      "execution_count": null,
      "outputs": []
    },
    {
      "cell_type": "markdown",
      "source": [
        "# Fine-tuned Model"
      ],
      "metadata": {
        "id": "hQRfN7yWLa9L"
      }
    },
    {
      "cell_type": "markdown",
      "source": [
        "*Method*"
      ],
      "metadata": {
        "id": "6fu1MDe7M4DW"
      }
    },
    {
      "cell_type": "markdown",
      "source": [
        "### Define the Clip Model"
      ],
      "metadata": {
        "id": "TM0-Myv5K5XW"
      }
    },
    {
      "cell_type": "markdown",
      "source": [
        "### Cost function"
      ],
      "metadata": {
        "id": "tmOhznWNK_4v"
      }
    },
    {
      "cell_type": "markdown",
      "source": [
        "### Optimizer"
      ],
      "metadata": {
        "id": "1SdBGpN1K_1L"
      }
    },
    {
      "cell_type": "markdown",
      "source": [
        "### Training and test step"
      ],
      "metadata": {
        "id": "E5SiMqomK_yw"
      }
    },
    {
      "cell_type": "markdown",
      "source": [
        "### All together"
      ],
      "metadata": {
        "id": "rcOvTLq3K_wU"
      }
    },
    {
      "cell_type": "markdown",
      "source": [
        "## Experiments and discussion"
      ],
      "metadata": {
        "id": "ozerjz48LTaI"
      }
    },
    {
      "cell_type": "markdown",
      "source": [
        "## Comparison with other ours hipotesis and State-of-the-arts"
      ],
      "metadata": {
        "id": "HA02J_u4NR-A"
      }
    },
    {
      "cell_type": "markdown",
      "source": [
        "## Ohter ideas / Proposals fo futher improvements"
      ],
      "metadata": {
        "id": "yFnV_dtLjwbw"
      }
    },
    {
      "cell_type": "markdown",
      "source": [
        "- *heat Map + Sam*:\\\n",
        "  pro:  non utilizza Yolo come object detector\\\n",
        "  cons: perde tutta la relazione testo immagine di clip\\\n",
        "  possible overcome: codificare la heatmap ed inserirla come input\n",
        "\n",
        "  Risulati ottenuti:\n",
        "  baseline con accuracy > 40%\n",
        "  accuracy on average > 45% con qualche forma di ingegnerizzaione (e.g. frammentazione dell'imagine e lavoro sul testo)\n"
      ],
      "metadata": {
        "id": "CulzPFlMNxav"
      }
    },
    {
      "cell_type": "markdown",
      "source": [
        "## Conclusion"
      ],
      "metadata": {
        "id": "t4xR18nxNHVl"
      }
    },
    {
      "cell_type": "markdown",
      "source": [
        "#References\n",
        "\n",
        "1. \"You Only Look Once: Unified, Real-Time Object Detection\"\n",
        "Joseph Redmon, Santosh Divvala, Ross Girshick, Ali Farhadi\n",
        "[2016]\n",
        "\n",
        "2. \"Learning transferable visual models from natural language supervision.\"\n",
        "Radford, Alec, et al.\n",
        "[2021]\n",
        "\n",
        "3. \"BLIP: Bootstrapping Language-Image Pre-training for\n",
        "Unified Vision-Language Understanding and Generation\"\n",
        "Junnan Li Dongxu Li Caiming Xiong Steven Hoi\n",
        "Salesforce Research\n",
        "[2022]\n",
        "\n",
        "4. \"Segment Anything\"\n",
        "Kirillov, Mintun, Ravi et al.\n",
        "Meta AI Research, FAIR\n",
        "[2023]\n",
        "\n",
        "5. \"RISCLIP: Referring Image Segmentation Framework using CLIP\"\n",
        "Seoyeon Kim, Minguk Kang, Jaesik Park\n",
        "[2023]\n",
        "\n",
        "6. \"Attention Is All You Need\"\n"
      ],
      "metadata": {
        "id": "XcFfItRHLTWk"
      }
    }
  ]
}