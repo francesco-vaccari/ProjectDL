{
 "cells": [
  {
   "cell_type": "code",
   "execution_count": 2,
   "metadata": {},
   "outputs": [],
   "source": [
    "import clip\n",
    "import torch\n",
    "import torch.nn as nn\n",
    "import torch.nn.functional as F\n",
    "import matplotlib.pyplot as plt\n",
    "import numpy as np\n",
    "from PIL import Image, ImageDraw\n",
    "\n",
    "model, preprocess = clip.load(\"ViT-B/16\")"
   ]
  },
  {
   "cell_type": "code",
   "execution_count": 3,
   "metadata": {},
   "outputs": [
    {
     "name": "stdout",
     "output_type": "stream",
     "text": [
      "80512 4896 9602\n"
     ]
    }
   ],
   "source": [
    "from RefcocogDataset import RefcocogDataset\n",
    "from torch.utils.data import DataLoader\n",
    "\n",
    "train_dataset = RefcocogDataset(\"./refcocog\", split=\"train\", transform=preprocess)\n",
    "val_dataset = RefcocogDataset(\"./refcocog\", split=\"val\", transform=preprocess)\n",
    "test_dataset = RefcocogDataset(\"./refcocog\", split=\"test\", transform=preprocess)\n",
    "\n",
    "print(len(train_dataset), len(val_dataset), len(test_dataset))\n",
    "\n",
    "train_loader = DataLoader(train_dataset, batch_size=4, shuffle=False)\n",
    "val_loader = DataLoader(val_dataset, batch_size=4, shuffle=False)\n",
    "test_loader = DataLoader(test_dataset, batch_size=4, shuffle=False)"
   ]
  },
  {
   "cell_type": "code",
   "execution_count": 4,
   "metadata": {},
   "outputs": [],
   "source": [
    "def visualize(sample, bbox, idx=0):\n",
    "    print(f\"Sentence: {sample['sentences'][idx]}\")\n",
    "    fig, axes = plt.subplots(1, 2, figsize=(10, 5))\n",
    "    axes[0].imshow(sample['image'][idx].permute(1, 2, 0))\n",
    "    axes[1].imshow(bbox['gt'][idx])\n",
    "    plt.tight_layout()\n",
    "    plt.show()\n",
    "\n",
    "def build_probability_map(patch_tokens, out_text):\n",
    "    patch_tokens = patch_tokens.squeeze(0)[1:]\n",
    "    map = torch.zeros(196)\n",
    "\n",
    "    for i, token in enumerate(patch_tokens):\n",
    "        map[i] = 1 - torch.cosine_similarity(token, out_text).item() # 1 - ... temporary fix\n",
    "    \n",
    "    map = torch.sigmoid(map)\n",
    "    map = map.reshape(14, 14)\n",
    "    return map\n"
   ]
  },
  {
   "cell_type": "code",
   "execution_count": 11,
   "metadata": {},
   "outputs": [
    {
     "data": {
      "image/png": "[encoded data removed]",
      "text/plain": [
       "<Figure size 1200x400 with 3 Axes>"
      ]
     },
     "metadata": {},
     "output_type": "display_data"
    }
   ],
   "source": [
    "def loss(map, gt, gamma=1):\n",
    "    map = map.reshape(-1)\n",
    "    gt = gt.reshape(-1)\n",
    "    abs = torch.abs(map - gt)\n",
    "    log = -torch.log(1-abs)\n",
    "    \n",
    "    # amplify the error of pixel that should belong to the object, according to strenght of label\n",
    "    log = torch.where(gt == 0, log, torch.pow(log+1, gamma)*(gt+1))\n",
    "\n",
    "    loss = torch.sum(log)\n",
    "    return loss, log\n",
    "\n",
    "for sample, bbox in train_loader:\n",
    "    idx = 1\n",
    "\n",
    "    out_image, out_text, patch_tokens, text_tokens = model.encode(sample['image'][idx].unsqueeze(0), clip.tokenize(sample['sentences'][idx]))\n",
    "    out_image, out_text = patch_tokens[0, 0].unsqueeze(0), text_tokens[0, -1].unsqueeze(0)\n",
    "    \n",
    "    # print(f'Similarity: {torch.cosine_similarity(out_image, out_text).item():.4f}')\n",
    "    \n",
    "    map = build_probability_map(patch_tokens, out_text)\n",
    "    gt = bbox['gt'][idx]/255\n",
    "\n",
    "    loss, log = loss(map, gt, gamma=1) # keep gamma = 1 for now\n",
    "\n",
    "\n",
    "\n",
    "    fig, axs = plt.subplots(1, 3, figsize=(12, 4))\n",
    "    axs[0].imshow(map)\n",
    "    axs[1].imshow(bbox['gt'][idx])\n",
    "    axs[2].imshow(log.reshape(14, 14))\n",
    "    plt.tight_layout()\n",
    "    plt.show()\n",
    "    break"
   ]
  }
 ],
 "metadata": {
  "kernelspec": {
   "display_name": "Python 3",
   "language": "python",
   "name": "python3"
  },
  "language_info": {
   "codemirror_mode": {
    "name": "ipython",
    "version": 3
   },
   "file_extension": ".py",
   "mimetype": "text/x-python",
   "name": "python",
   "nbconvert_exporter": "python",
   "pygments_lexer": "ipython3",
   "version": "3.9.6"
  },
  "orig_nbformat": 4
 },
 "nbformat": 4,
 "nbformat_minor": 2
}
