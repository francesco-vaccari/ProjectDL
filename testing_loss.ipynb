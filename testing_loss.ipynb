{
 "cells": [
  {
   "cell_type": "code",
   "execution_count": 1,
   "metadata": {},
   "outputs": [],
   "source": [
    "import clip\n",
    "import torch\n",
    "import torch.nn as nn\n",
    "import torch.nn.functional as F\n",
    "import matplotlib.pyplot as plt\n",
    "import numpy as np\n",
    "from PIL import Image, ImageDraw\n",
    "\n",
    "device = torch.device(\"cuda\" if torch.cuda.is_available() else \"cpu\")\n",
    "\n",
    "model, preprocess = clip.load(\"ViT-B/16\")\n",
    "model.init_adapters()\n",
    "model = model.to(device)"
   ]
  },
  {
   "cell_type": "code",
   "execution_count": 2,
   "metadata": {},
   "outputs": [],
   "source": [
    "from RefcocogDataset import RefcocogDataset\n",
    "from torch.utils.data import DataLoader\n",
    "\n",
    "train_dataset = RefcocogDataset(\"./refcocog\", split=\"train\", transform=preprocess)\n",
    "# val_dataset = RefcocogDataset(\"./refcocog\", split=\"val\", transform=preprocess)\n",
    "# test_dataset = RefcocogDataset(\"./refcocog\", split=\"test\", transform=preprocess)\n",
    "\n",
    "# print(len(train_dataset), len(val_dataset), len(test_dataset))\n",
    "\n",
    "train_loader = DataLoader(train_dataset, batch_size=8, shuffle=False)\n",
    "# val_loader = DataLoader(val_dataset, batch_size=8, shuffle=False)\n",
    "# test_loader = DataLoader(test_dataset, batch_size=8, shuffle=False)"
   ]
  },
  {
   "cell_type": "code",
   "execution_count": 3,
   "metadata": {},
   "outputs": [],
   "source": [
    "def visualize_sample(sample, bbox, idx=0):\n",
    "    print(f\"Sentence: {sample['sentences'][idx]}\")\n",
    "    fig, axes = plt.subplots(1, 2, figsize=(10, 5))\n",
    "    axes[0].imshow(sample['image'][idx].permute(1, 2, 0))\n",
    "    axes[1].imshow(bbox['gt'][idx])\n",
    "    plt.tight_layout()\n",
    "    plt.show()\n",
    "\n",
    "def build_probability_map(patch_tokens, out_text):\n",
    "    patch_tokens = patch_tokens.squeeze(0)[1:]\n",
    "    map = torch.zeros(196)\n",
    "\n",
    "    for i, token in enumerate(patch_tokens):\n",
    "        map[i] = 1 - torch.cosine_similarity(token, out_text).item() # 1 - ... temporary fix\n",
    "    \n",
    "    map = torch.sigmoid(map)\n",
    "    map = map.reshape(14, 14)\n",
    "    return map\n",
    "\n",
    "def visualize_loss(map, gt, loss_map):\n",
    "    fig, axs = plt.subplots(1, 3, figsize=(12, 4))\n",
    "    axs[0].imshow(map)\n",
    "    axs[1].imshow(gt)\n",
    "    axs[2].imshow(loss_map.reshape(14, 14))\n",
    "    plt.tight_layout()\n",
    "    plt.show()\n",
    "\n",
    "def loss(map, gt, gamma=1):\n",
    "    map = map.reshape(-1)\n",
    "    gt = gt.reshape(-1)\n",
    "    abs = torch.abs(map - gt)\n",
    "    log = -torch.log(1-abs)\n",
    "    \n",
    "    # amplify the error of pixel that should belong to the object\n",
    "    log = log*(gt*gamma+1)\n",
    "\n",
    "    loss = torch.sum(log)\n",
    "    return loss, log"
   ]
  },
  {
   "cell_type": "code",
   "execution_count": 4,
   "metadata": {},
   "outputs": [
    {
     "name": "stderr",
     "output_type": "stream",
     "text": [
      "/Users/francesco/Library/Python/3.9/lib/python/site-packages/torchvision/transforms/transforms.py:329: UserWarning: Argument 'interpolation' of type int is deprecated since 0.13 and will be removed in 0.15. Please use InterpolationMode enum.\n",
      "  warnings.warn(\n"
     ]
    },
    {
     "name": "stdout",
     "output_type": "stream",
     "text": [
      "Similarity 0.2969\n"
     ]
    }
   ],
   "source": [
    "for samples, bbox in train_loader:\n",
    "    # idx = 7\n",
    "\n",
    "    # visualize_sample(sample, bbox, idx)\n",
    "\n",
    "    # image = sample['image'][idx].unsqueeze(0).to(device)\n",
    "    # sentence = clip.tokenize(sample['sentences'][idx]).to(device)\n",
    "\n",
    "    images = samples['image'].to(device)\n",
    "    sentences = clip.tokenize(samples['sentences']).to(device)\n",
    "\n",
    "    out_image, out_text, patch_tokens, text_tokens = model.encode(images, sentences)\n",
    "    print(f'Similarity {torch.cosine_similarity(out_image[0].unsqueeze(0), out_text[0].unsqueeze(0)).item():.4f}')\n",
    "    \n",
    "    # map = build_probability_map(patch_tokens, out_text)\n",
    "    # gt = bbox['gt'][idx]/255\n",
    "\n",
    "    # error, loss_map = loss(map, gt, gamma=3.4)\n",
    "\n",
    "    # visualize_loss(map, bbox['gt'][idx], loss_map)\n",
    "    \n",
    "    break"
   ]
  }
 ],
 "metadata": {
  "kernelspec": {
   "display_name": "Python 3",
   "language": "python",
   "name": "python3"
  },
  "language_info": {
   "codemirror_mode": {
    "name": "ipython",
    "version": 3
   },
   "file_extension": ".py",
   "mimetype": "text/x-python",
   "name": "python",
   "nbconvert_exporter": "python",
   "pygments_lexer": "ipython3",
   "version": "3.9.6"
  },
  "orig_nbformat": 4
 },
 "nbformat": 4,
 "nbformat_minor": 2
}
